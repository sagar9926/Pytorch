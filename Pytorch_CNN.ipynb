{
  "nbformat": 4,
  "nbformat_minor": 0,
  "metadata": {
    "colab": {
      "name": "Pytorch CNN.ipynb",
      "provenance": [],
      "authorship_tag": "ABX9TyOfa0RGg4ag8+0L1c8AVp2U",
      "include_colab_link": true
    },
    "kernelspec": {
      "name": "python3",
      "display_name": "Python 3"
    }
  },
  "cells": [
    {
      "cell_type": "markdown",
      "metadata": {
        "id": "view-in-github",
        "colab_type": "text"
      },
      "source": [
        "<a href=\"https://colab.research.google.com/github/sagar9926/Pytorch/blob/master/Pytorch_CNN.ipynb\" target=\"_parent\"><img src=\"https://colab.research.google.com/assets/colab-badge.svg\" alt=\"Open In Colab\"/></a>"
      ]
    },
    {
      "cell_type": "markdown",
      "metadata": {
        "id": "i59EnUCowYYa",
        "colab_type": "text"
      },
      "source": [
        "## Outline\n",
        "\n",
        "* Downloading dataset (CIFAR10)\n",
        "* `Dataloader` in `torch.utils`\n",
        "* Visualising images\n",
        "* Single and multiple convolutional layers\n",
        "* LeNet\n",
        "* Training LeNet\n",
        "* Training on GPU\n",
        "* Simple visualisation\n",
        "* Exercises"
      ]
    },
    {
      "cell_type": "code",
      "metadata": {
        "id": "SIMbmZJzwZ6r",
        "colab_type": "code",
        "colab": {}
      },
      "source": [
        "import torch\n",
        "import matplotlib.pyplot as plt\n",
        "import numpy as np"
      ],
      "execution_count": 0,
      "outputs": []
    },
    {
      "cell_type": "markdown",
      "metadata": {
        "id": "zYvcE15Hwet-",
        "colab_type": "text"
      },
      "source": [
        "## Data loading"
      ]
    },
    {
      "cell_type": "code",
      "metadata": {
        "id": "0mqeyU4hwgj7",
        "colab_type": "code",
        "colab": {
          "base_uri": "https://localhost:8080/",
          "height": 35
        },
        "outputId": "684c82bd-c87f-41cb-dfc3-62977fc5941e"
      },
      "source": [
        "import torchvision\n",
        "import torchvision.transforms as transforms\n",
        "\n",
        "# Cifar is divided into 5 training batches and one test batches\n",
        "trainset = torchvision.datasets.CIFAR10(root = './data',train = True  # yes i want to train this data\n",
        "                                        ,download = True # yes i want to download it locally\n",
        "                                        , transform=transforms.ToTensor())# apllying certain functions to the data at downlading step itself... Transform to tensor\n",
        "\n",
        "                    \n",
        "\n",
        "# .datasets hesl us to work with the images in aggregated format instead in form pof different bactes of 10k images each"
      ],
      "execution_count": 4,
      "outputs": [
        {
          "output_type": "stream",
          "text": [
            "Files already downloaded and verified\n"
          ],
          "name": "stdout"
        }
      ]
    },
    {
      "cell_type": "code",
      "metadata": {
        "id": "D4-1WQuSxZkB",
        "colab_type": "code",
        "colab": {}
      },
      "source": [
        "classes = ('plane', 'car', 'bird', 'cat', 'deer', 'dog', 'frog', 'horse', 'ship', 'truck')"
      ],
      "execution_count": 0,
      "outputs": []
    },
    {
      "cell_type": "code",
      "metadata": {
        "id": "O7lRfT7NyKRU",
        "colab_type": "code",
        "colab": {}
      },
      "source": [
        "#Once we have dataset created locally we can load data from it in certain batchsizes e.g in our case batchsize is 4 \n",
        "# which means every time i load i will get a batch of 4 images randomlly or sequentially based on shuffle\n",
        "\n",
        "trainloader = torch.utils.data.DataLoader(trainset, batch_size=4, shuffle=True)"
      ],
      "execution_count": 0,
      "outputs": []
    },
    {
      "cell_type": "code",
      "metadata": {
        "id": "-0Ernf-wxlOu",
        "colab_type": "code",
        "colab": {
          "base_uri": "https://localhost:8080/",
          "height": 70
        },
        "outputId": "e61ca0d9-32a2-409e-903b-c0b7b65b1391"
      },
      "source": [
        "# To access the train loader we have to c reate a iterator for that\n",
        "\n",
        "dataiter = iter(trainloader)\n",
        "images, labels = dataiter.next() # this gives us one instance of four images and their corresponding labels\n",
        "\n",
        "print(images.shape) #[(Batch size, channels, size of image)]\n",
        "\n",
        "print(images[1].shape)\n",
        "print(labels[1].item())\n"
      ],
      "execution_count": 9,
      "outputs": [
        {
          "output_type": "stream",
          "text": [
            "torch.Size([4, 3, 32, 32])\n",
            "torch.Size([3, 32, 32])\n",
            "7\n"
          ],
          "name": "stdout"
        }
      ]
    },
    {
      "cell_type": "markdown",
      "metadata": {
        "id": "qnmfrTxGzpct",
        "colab_type": "text"
      },
      "source": [
        "## Visualise data"
      ]
    },
    {
      "cell_type": "code",
      "metadata": {
        "id": "UUWAKojizp2U",
        "colab_type": "code",
        "colab": {
          "base_uri": "https://localhost:8080/",
          "height": 35
        },
        "outputId": "d1d3f3c5-0478-4980-911d-70e87d1bfd55"
      },
      "source": [
        "img = images[1]\n",
        "print(type(img),img.shape)"
      ],
      "execution_count": 11,
      "outputs": [
        {
          "output_type": "stream",
          "text": [
            "<class 'torch.Tensor'> torch.Size([3, 32, 32])\n"
          ],
          "name": "stdout"
        }
      ]
    },
    {
      "cell_type": "code",
      "metadata": {
        "id": "cYN9clhHz3Zj",
        "colab_type": "code",
        "colab": {
          "base_uri": "https://localhost:8080/",
          "height": 35
        },
        "outputId": "2c1204fe-e4be-4f3b-855f-9027a4c47bcc"
      },
      "source": [
        "# To plot the image first convert the image tensor to numpy\n",
        "\n",
        "np_img = img.numpy()\n",
        "print(np_img.shape)"
      ],
      "execution_count": 12,
      "outputs": [
        {
          "output_type": "stream",
          "text": [
            "(3, 32, 32)\n"
          ],
          "name": "stdout"
        }
      ]
    },
    {
      "cell_type": "code",
      "metadata": {
        "id": "GvVCdHN20G2Q",
        "colab_type": "code",
        "colab": {
          "base_uri": "https://localhost:8080/",
          "height": 35
        },
        "outputId": "c26dcdaf-f0ae-4f7f-cc06-9e814a6504ef"
      },
      "source": [
        "# To plot the image we need to transpose the image , permute the dimension\n",
        "# To be able to plot it we need it to be in the form of x,y,z where x and y correspond to the size of the image and z denotes the number of channels\n",
        "\n",
        "np_img = np.transpose(np_img,(1,2,0))\n",
        "print(np_img.shape)"
      ],
      "execution_count": 13,
      "outputs": [
        {
          "output_type": "stream",
          "text": [
            "(32, 32, 3)\n"
          ],
          "name": "stdout"
        }
      ]
    },
    {
      "cell_type": "code",
      "metadata": {
        "id": "AxbYz9Pq0u_W",
        "colab_type": "code",
        "colab": {
          "base_uri": "https://localhost:8080/",
          "height": 212
        },
        "outputId": "b7b142b2-b546-4aaf-ac25-1b105b9725a4"
      },
      "source": [
        "plt.figure(figsize = (3,3))\n",
        "plt.imshow(np_img) # to plot image using matplotlib\n",
        "plt.show() #32 x 32 image"
      ],
      "execution_count": 18,
      "outputs": [
        {
          "output_type": "display_data",
          "data": {
            "image/png": "[encoded data removed]",
            "text/plain": [
              "<Figure size 216x216 with 1 Axes>"
            ]
          },
          "metadata": {
            "tags": [],
            "needs_background": "light"
          }
        }
      ]
    },
    {
      "cell_type": "code",
      "metadata": {
        "id": "QLIYkMb21GLZ",
        "colab_type": "code",
        "colab": {}
      },
      "source": [
        "def imshow(img):\n",
        "    npimg = img.numpy()\n",
        "    plt.figure(figsize = (10,10))\n",
        "    plt.imshow(np.transpose(npimg, (1, 2, 0)))\n",
        "    plt.show()"
      ],
      "execution_count": 0,
      "outputs": []
    },
    {
      "cell_type": "code",
      "metadata": {
        "id": "1Yoy9nhK1sRA",
        "colab_type": "code",
        "colab": {
          "base_uri": "https://localhost:8080/",
          "height": 35
        },
        "outputId": "98a85430-5058-4d66-e69c-a533885add8e"
      },
      "source": [
        "torchvision.utils.make_grid(images).shape # This represents the stacked images of the batch with 2 pixel padding (32* 4 + 2*5(black borders) = 138)\n"
      ],
      "execution_count": 23,
      "outputs": [
        {
          "output_type": "execute_result",
          "data": {
            "text/plain": [
              "torch.Size([3, 36, 138])"
            ]
          },
          "metadata": {
            "tags": []
          },
          "execution_count": 23
        }
      ]
    },
    {
      "cell_type": "code",
      "metadata": {
        "id": "dRyoSFpg1Y8a",
        "colab_type": "code",
        "colab": {
          "base_uri": "https://localhost:8080/",
          "height": 212
        },
        "outputId": "b92861e1-4e7a-4864-c2d3-e7e0513f7135"
      },
      "source": [
        "imshow(torchvision.utils.make_grid(images)) #To plot the entire batch, stacks up the images in form of long image in which individual image will apper in cells\n",
        "print(' '.join(classes[labels[j]] for j in range(4)))"
      ],
      "execution_count": 27,
      "outputs": [
        {
          "output_type": "display_data",
          "data": {
            "image/png": "[encoded data removed]",
            "text/plain": [
              "<Figure size 720x720 with 1 Axes>"
            ]
          },
          "metadata": {
            "tags": [],
            "needs_background": "light"
          }
        },
        {
          "output_type": "stream",
          "text": [
            "deer horse cat plane\n"
          ],
          "name": "stdout"
        }
      ]
    },
    {
      "cell_type": "markdown",
      "metadata": {
        "id": "zSYX-ugU2W7y",
        "colab_type": "text"
      },
      "source": [
        "## Single Convolutional Layer"
      ]
    },
    {
      "cell_type": "code",
      "metadata": {
        "id": "EAhiFc2f2bDL",
        "colab_type": "code",
        "colab": {}
      },
      "source": [
        "import torch.nn as nn\n",
        "\n",
        "class FirstCNN(nn.Module):\n",
        "\n",
        "  def __init__(self):\n",
        "    super(FirstCNN,self).__init__() # initialising the super class\n",
        "    self.conv1 = nn.Conv2d(3, 16, 3)#, padding=(1,1), stride=(2,2)) # padding=(1,1), stride=(2,2)) # performing single convolution operation\n",
        "\n",
        "        \n",
        "  def forward(self, x):\n",
        "    x = self.conv1(x)\n",
        "    return x"
      ],
      "execution_count": 0,
      "outputs": []
    },
    {
      "cell_type": "code",
      "metadata": {
        "id": "ViVEsJrO7nQZ",
        "colab_type": "code",
        "colab": {}
      },
      "source": [
        "net = FirstCNN()"
      ],
      "execution_count": 0,
      "outputs": []
    },
    {
      "cell_type": "code",
      "metadata": {
        "id": "Gn5LVjVN7noI",
        "colab_type": "code",
        "colab": {
          "base_uri": "https://localhost:8080/",
          "height": 35
        },
        "outputId": "a55fb94d-c720-4424-d3f6-1e1192cf651f"
      },
      "source": [
        "out = net(images)\n",
        "out.shape #output of first convolution(batchsize,channels,size of output)"
      ],
      "execution_count": 36,
      "outputs": [
        {
          "output_type": "execute_result",
          "data": {
            "text/plain": [
              "torch.Size([4, 16, 30, 30])"
            ]
          },
          "metadata": {
            "tags": []
          },
          "execution_count": 36
        }
      ]
    },
    {
      "cell_type": "code",
      "metadata": {
        "id": "9-FHyvQQ70qx",
        "colab_type": "code",
        "colab": {
          "base_uri": "https://localhost:8080/",
          "height": 52
        },
        "outputId": "aa02a765-9699-4bd7-e0b1-ba163eb95a10"
      },
      "source": [
        "# In nn module we can explicitly print parameters as follows\n",
        "\n",
        "for param in net.parameters():\n",
        "    print(param.shape) #(16 KERNELS,INPUT 3 CHANNELS, KERNEL SIZE 3x3) # denote weights\n",
        "\n",
        "    #second output denotes bias , each kernel has one bias this 16 biases"
      ],
      "execution_count": 38,
      "outputs": [
        {
          "output_type": "stream",
          "text": [
            "torch.Size([16, 3, 3, 3])\n",
            "torch.Size([16])\n"
          ],
          "name": "stdout"
        }
      ]
    },
    {
      "cell_type": "code",
      "metadata": {
        "id": "mlMTScVe9jhw",
        "colab_type": "code",
        "colab": {
          "base_uri": "https://localhost:8080/",
          "height": 1000
        },
        "outputId": "b36ffe04-d19f-4b46-d60d-d23a5e029913"
      },
      "source": [
        "print(out[0, 0, :, :])"
      ],
      "execution_count": 40,
      "outputs": [
        {
          "output_type": "stream",
          "text": [
            "tensor([[ 0.2850,  0.2854,  0.2861,  0.2837,  0.2842,  0.2901,  0.2935,  0.2795,\n",
            "          0.2564,  0.2485,  0.2516,  0.2518,  0.2517,  0.2564,  0.2577,  0.2500,\n",
            "          0.2187,  0.2308,  0.1933,  0.0319, -0.0230,  0.0829,  0.1774,  0.1866,\n",
            "          0.1960,  0.2273,  0.2487,  0.2476,  0.2476,  0.2473],\n",
            "        [ 0.2852,  0.2853,  0.2865,  0.2856,  0.2850,  0.2899,  0.2942,  0.2828,\n",
            "          0.2593,  0.2498,  0.2527,  0.2530,  0.2523,  0.2569,  0.2501,  0.2511,\n",
            "          0.2538,  0.0999, -0.0738, -0.0974,  0.0460,  0.1900,  0.1808,  0.1451,\n",
            "          0.1604,  0.2385,  0.2872,  0.2423,  0.2018,  0.2288],\n",
            "        [ 0.2851,  0.2855,  0.2868,  0.2852,  0.2843,  0.2903,  0.2942,  0.2824,\n",
            "          0.2603,  0.2507,  0.2516,  0.2516,  0.2501,  0.2732,  0.2982,  0.2079,\n",
            "          0.0548, -0.1076, -0.0748,  0.1515,  0.2531,  0.2522,  0.2349,  0.2502,\n",
            "          0.2408,  0.2818,  0.2922,  0.1849,  0.1542,  0.2098],\n",
            "        [ 0.2851,  0.2855,  0.2868,  0.2852,  0.2843,  0.2903,  0.2942,  0.2824,\n",
            "          0.2598,  0.2503,  0.2511,  0.2517,  0.2527,  0.2695,  0.2494,  0.0787,\n",
            "         -0.0794,  0.0510,  0.2591,  0.3425,  0.2926,  0.2747,  0.3111,  0.3053,\n",
            "          0.2358,  0.2609,  0.2557,  0.1584,  0.1506,  0.1798],\n",
            "        [ 0.2851,  0.2855,  0.2870,  0.2856,  0.2843,  0.2903,  0.2942,  0.2824,\n",
            "          0.2595,  0.2501,  0.2513,  0.2516,  0.2513,  0.2881,  0.1805,  0.0190,\n",
            "          0.1194,  0.2845,  0.3192,  0.2821,  0.2514,  0.2426,  0.2381,  0.2432,\n",
            "          0.2191,  0.2094,  0.2048,  0.1267,  0.1121,  0.1112],\n",
            "        [ 0.2883,  0.2878,  0.2886,  0.2855,  0.2825,  0.2877,  0.2930,  0.2829,\n",
            "          0.2617,  0.2519,  0.2490,  0.2498,  0.2617,  0.2955,  0.1371,  0.0183,\n",
            "          0.2247,  0.3172,  0.2439,  0.2534,  0.2897,  0.2376,  0.1544,  0.2116,\n",
            "          0.2950,  0.1804,  0.0566,  0.0324,  0.0459,  0.0839],\n",
            "        [ 0.2933,  0.2923,  0.2893,  0.2867,  0.2861,  0.2890,  0.2930,  0.2798,\n",
            "          0.2603,  0.2523,  0.2427,  0.2447,  0.2825,  0.2812,  0.1097,  0.0638,\n",
            "          0.2496,  0.2685,  0.2272,  0.2468,  0.2639,  0.2432,  0.1568,  0.1792,\n",
            "          0.2494,  0.0686, -0.1214, -0.0199,  0.1332,  0.2119],\n",
            "        [ 0.2816,  0.2827,  0.2822,  0.2835,  0.2917,  0.2931,  0.2842,  0.2673,\n",
            "          0.2530,  0.2516,  0.2414,  0.2421,  0.2787,  0.2536,  0.1354,  0.1079,\n",
            "          0.2211,  0.2487,  0.2519,  0.2591,  0.2296,  0.2708,  0.2720,  0.0844,\n",
            "         -0.0577, -0.0176,  0.0933,  0.2222,  0.2992,  0.3104],\n",
            "        [ 0.2623,  0.2782,  0.2806,  0.2715,  0.2749,  0.2696,  0.2392,  0.2252,\n",
            "          0.2422,  0.2581,  0.2503,  0.2435,  0.2603,  0.2315,  0.1973,  0.1423,\n",
            "          0.1384,  0.2423,  0.2639,  0.2403,  0.2654,  0.2557,  0.1554, -0.0434,\n",
            "         -0.0518,  0.1908,  0.3243,  0.3046,  0.2799,  0.2691],\n",
            "        [ 0.2926,  0.3106,  0.2869,  0.2547,  0.2313,  0.2087,  0.1745,  0.1634,\n",
            "          0.2036,  0.2517,  0.2530,  0.2413,  0.2581,  0.2134,  0.1901,  0.2129,\n",
            "          0.1221,  0.1840,  0.2619,  0.2736,  0.3031,  0.1021, -0.0205,  0.1212,\n",
            "          0.2246,  0.2827,  0.2825,  0.2561,  0.2580,  0.2598],\n",
            "        [ 0.3331,  0.2946,  0.2277,  0.1940,  0.1547,  0.1075,  0.1048,  0.1361,\n",
            "          0.1492,  0.1882,  0.2281,  0.2410,  0.2604,  0.2346,  0.1651,  0.2660,\n",
            "          0.2337,  0.0955,  0.2446,  0.2977,  0.0959,  0.0239,  0.1666,  0.2160,\n",
            "          0.1686,  0.1808,  0.2258,  0.2466,  0.2464,  0.2459],\n",
            "        [ 0.3007,  0.2193,  0.1192,  0.0674,  0.0521,  0.0282,  0.0347,  0.0810,\n",
            "          0.1091,  0.1300,  0.1783,  0.2190,  0.2487,  0.2490,  0.1871,  0.1947,\n",
            "          0.3172,  0.2235,  0.1827,  0.1349,  0.0519,  0.1139,  0.1307,  0.1068,\n",
            "          0.1040,  0.1535,  0.2262,  0.2529,  0.2587,  0.2610],\n",
            "        [ 0.2583,  0.1458,  0.0301, -0.0121, -0.0140, -0.0040, -0.0037,  0.0115,\n",
            "          0.0978,  0.1439,  0.1355,  0.1643,  0.2029,  0.2307,  0.2096,  0.1763,\n",
            "          0.2414,  0.3064,  0.1240, -0.0182, -0.0156,  0.0603,  0.0896,  0.0730,\n",
            "          0.1322,  0.2059,  0.2489,  0.2561,  0.2495,  0.2450],\n",
            "        [ 0.2240,  0.0740, -0.0148,  0.0074,  0.0387,  0.0511,  0.0374,  0.0309,\n",
            "          0.0737,  0.0988,  0.1023,  0.1201,  0.1555,  0.1841,  0.1773,  0.2048,\n",
            "          0.1805,  0.0693,  0.0063,  0.0040,  0.0374,  0.0471,  0.1192,  0.1523,\n",
            "          0.2078,  0.2630,  0.2351,  0.2207,  0.1961,  0.2042],\n",
            "        [ 0.2065,  0.0774, -0.0004,  0.0301,  0.0769,  0.0863,  0.0333,  0.0177,\n",
            "          0.0638,  0.0736,  0.0849,  0.0842,  0.0838,  0.0912,  0.0801,  0.0641,\n",
            "          0.0122, -0.0627, -0.0331,  0.0570,  0.1719,  0.1319,  0.0657,  0.1781,\n",
            "          0.2318,  0.1671,  0.0978,  0.0622,  0.1303,  0.2201],\n",
            "        [ 0.1766,  0.0641,  0.0272,  0.0421,  0.0964,  0.0951,  0.0206,  0.0272,\n",
            "          0.0748,  0.0685,  0.0590,  0.0489,  0.0386,  0.0325,  0.0165, -0.0115,\n",
            "         -0.0117,  0.0160,  0.0401, -0.0276, -0.0738,  0.0605,  0.1057, -0.0022,\n",
            "         -0.0639, -0.0227,  0.0276,  0.1026,  0.2169,  0.2644],\n",
            "        [ 0.1869,  0.0721,  0.0603,  0.0853,  0.0893,  0.0375, -0.0093,  0.0278,\n",
            "          0.0423,  0.0150, -0.0122, -0.0369, -0.0454, -0.0640, -0.0635, -0.0272,\n",
            "         -0.0441, -0.0732, -0.0600, -0.0639, -0.0825, -0.0378,  0.0423, -0.0154,\n",
            "         -0.0115,  0.1417,  0.2522,  0.2995,  0.3006,  0.2665],\n",
            "        [ 0.2313,  0.1764, -0.0231, -0.0670,  0.0055, -0.0420, -0.0827, -0.0261,\n",
            "         -0.0321, -0.0637, -0.0863, -0.0852, -0.0775, -0.0688, -0.0511, -0.0679,\n",
            "         -0.0806, -0.0330,  0.0091,  0.0270,  0.0748, -0.0293, -0.0327,  0.2335,\n",
            "          0.3041,  0.2928,  0.2965,  0.2932,  0.2788,  0.2683],\n",
            "        [ 0.1636,  0.1064, -0.0267, -0.1436, -0.0922, -0.0562, -0.0758, -0.0882,\n",
            "         -0.1033, -0.0907, -0.0420,  0.0148,  0.0450,  0.0417,  0.0028, -0.0373,\n",
            "         -0.0015,  0.1279,  0.1730,  0.0847,  0.0690,  0.0601,  0.0139,  0.2267,\n",
            "          0.3486,  0.2729,  0.2628,  0.2628,  0.2598,  0.2575],\n",
            "        [ 0.1864,  0.1148,  0.1803,  0.1019, -0.0329,  0.0018,  0.0092, -0.0568,\n",
            "         -0.0533,  0.0092,  0.0902,  0.1337,  0.0955,  0.0229, -0.0230,  0.0583,\n",
            "          0.1830,  0.2087,  0.1764,  0.1592,  0.1089,  0.0885,  0.1167,  0.1857,\n",
            "          0.2716,  0.2613,  0.2530,  0.2548,  0.2532,  0.2541],\n",
            "        [ 0.2313,  0.1589,  0.1781,  0.2009,  0.0689,  0.0273,  0.0109,  0.0093,\n",
            "          0.1073,  0.1622,  0.0258, -0.1018, -0.0807, -0.0483,  0.0093,  0.1386,\n",
            "          0.2327,  0.2281,  0.1799,  0.1477,  0.1650,  0.2441,  0.3286,  0.2945,\n",
            "          0.2642,  0.2607,  0.2506,  0.2555,  0.2571,  0.2580],\n",
            "        [ 0.2411,  0.2215,  0.1599,  0.1667,  0.1531,  0.0615,  0.0674,  0.1543,\n",
            "          0.1113, -0.0406, -0.1326, -0.1289,  0.0018,  0.1214,  0.1917,  0.2443,\n",
            "          0.2631,  0.2486,  0.2210,  0.1968,  0.2407,  0.3349,  0.3526,  0.2995,\n",
            "          0.2654,  0.2551,  0.2492,  0.2537,  0.2538,  0.2535],\n",
            "        [ 0.2453,  0.2458,  0.2161,  0.1511,  0.1312,  0.0891,  0.1152,  0.1220,\n",
            "         -0.0295, -0.1616, -0.0460,  0.1410,  0.2201,  0.2590,  0.2680,  0.2495,\n",
            "          0.2479,  0.2553,  0.2593,  0.2484,  0.2378,  0.2529,  0.2612,  0.2548,\n",
            "          0.2559,  0.2534,  0.2523,  0.2537,  0.2538,  0.2535],\n",
            "        [ 0.2187,  0.2275,  0.2467,  0.1797,  0.0862,  0.0921,  0.1379,  0.1055,\n",
            "         -0.0398, -0.1196,  0.0168,  0.2159,  0.2708,  0.2748,  0.2603,  0.2438,\n",
            "          0.2480,  0.2564,  0.2599,  0.2552,  0.2535,  0.2608,  0.2596,  0.2493,\n",
            "          0.2511,  0.2560,  0.2551,  0.2537,  0.2538,  0.2535],\n",
            "        [ 0.1429,  0.1602,  0.1922,  0.1306,  0.0201,  0.0525,  0.1328,  0.1063,\n",
            "         -0.0249, -0.0869,  0.0408,  0.1988,  0.2459,  0.2637,  0.2543,  0.2559,\n",
            "          0.2617,  0.2597,  0.2548,  0.2515,  0.2536,  0.2584,  0.2569,  0.2524,\n",
            "          0.2528,  0.2550,  0.2545,  0.2537,  0.2538,  0.2535],\n",
            "        [ 0.0733,  0.1002,  0.1081,  0.0182, -0.0455,  0.0181,  0.1128,  0.1003,\n",
            "         -0.0168, -0.0683,  0.0400,  0.1747,  0.2282,  0.2573,  0.2525,  0.2537,\n",
            "          0.2542,  0.2537,  0.2537,  0.2537,  0.2537,  0.2537,  0.2537,  0.2537,\n",
            "          0.2537,  0.2537,  0.2537,  0.2537,  0.2538,  0.2535],\n",
            "        [ 0.0387,  0.0532,  0.0287, -0.0284, -0.0455, -0.0207,  0.0837,  0.1170,\n",
            "         -0.0197, -0.0831,  0.0166,  0.1623,  0.2262,  0.2587,  0.2541,  0.2544,\n",
            "          0.2533,  0.2517,  0.2524,  0.2537,  0.2538,  0.2537,  0.2537,  0.2537,\n",
            "          0.2537,  0.2537,  0.2537,  0.2537,  0.2538,  0.2535],\n",
            "        [ 0.0281,  0.0101, -0.0037, -0.0230, -0.0097, -0.0025,  0.0830,  0.1278,\n",
            "         -0.0116, -0.0795,  0.0341,  0.1693,  0.2135,  0.2593,  0.2594,  0.2535,\n",
            "          0.2502,  0.2475,  0.2465,  0.2515,  0.2537,  0.2538,  0.2537,  0.2537,\n",
            "          0.2537,  0.2537,  0.2537,  0.2537,  0.2538,  0.2535],\n",
            "        [ 0.0079,  0.0040,  0.0298,  0.0214, -0.0351,  0.0033,  0.1273,  0.1404,\n",
            "          0.0121, -0.0566,  0.0646,  0.1714,  0.1529,  0.1949,  0.2233,  0.2427,\n",
            "          0.2476,  0.2507,  0.2528,  0.2525,  0.2534,  0.2542,  0.2537,  0.2537,\n",
            "          0.2537,  0.2537,  0.2537,  0.2537,  0.2538,  0.2535],\n",
            "        [ 0.0161,  0.0067,  0.0065, -0.0109, -0.0447,  0.0016,  0.0984,  0.0765,\n",
            "         -0.0028, -0.0610,  0.0459,  0.1458,  0.0955,  0.1148,  0.1456,  0.1938,\n",
            "          0.2286,  0.2488,  0.2626,  0.2588,  0.2518,  0.2536,  0.2537,  0.2537,\n",
            "          0.2537,  0.2537,  0.2537,  0.2537,  0.2538,  0.2535]],\n",
            "       grad_fn=<SliceBackward>)\n"
          ],
          "name": "stdout"
        }
      ]
    },
    {
      "cell_type": "code",
      "metadata": {
        "id": "O6kz8DGc9oPd",
        "colab_type": "code",
        "colab": {
          "base_uri": "https://localhost:8080/",
          "height": 1000
        },
        "outputId": "7114f4ab-4fe3-4d33-ac62-f63be41861d4"
      },
      "source": [
        "print(out[0, 0, :, :].detach())"
      ],
      "execution_count": 41,
      "outputs": [
        {
          "output_type": "stream",
          "text": [
            "tensor([[ 0.2850,  0.2854,  0.2861,  0.2837,  0.2842,  0.2901,  0.2935,  0.2795,\n",
            "          0.2564,  0.2485,  0.2516,  0.2518,  0.2517,  0.2564,  0.2577,  0.2500,\n",
            "          0.2187,  0.2308,  0.1933,  0.0319, -0.0230,  0.0829,  0.1774,  0.1866,\n",
            "          0.1960,  0.2273,  0.2487,  0.2476,  0.2476,  0.2473],\n",
            "        [ 0.2852,  0.2853,  0.2865,  0.2856,  0.2850,  0.2899,  0.2942,  0.2828,\n",
            "          0.2593,  0.2498,  0.2527,  0.2530,  0.2523,  0.2569,  0.2501,  0.2511,\n",
            "          0.2538,  0.0999, -0.0738, -0.0974,  0.0460,  0.1900,  0.1808,  0.1451,\n",
            "          0.1604,  0.2385,  0.2872,  0.2423,  0.2018,  0.2288],\n",
            "        [ 0.2851,  0.2855,  0.2868,  0.2852,  0.2843,  0.2903,  0.2942,  0.2824,\n",
            "          0.2603,  0.2507,  0.2516,  0.2516,  0.2501,  0.2732,  0.2982,  0.2079,\n",
            "          0.0548, -0.1076, -0.0748,  0.1515,  0.2531,  0.2522,  0.2349,  0.2502,\n",
            "          0.2408,  0.2818,  0.2922,  0.1849,  0.1542,  0.2098],\n",
            "        [ 0.2851,  0.2855,  0.2868,  0.2852,  0.2843,  0.2903,  0.2942,  0.2824,\n",
            "          0.2598,  0.2503,  0.2511,  0.2517,  0.2527,  0.2695,  0.2494,  0.0787,\n",
            "         -0.0794,  0.0510,  0.2591,  0.3425,  0.2926,  0.2747,  0.3111,  0.3053,\n",
            "          0.2358,  0.2609,  0.2557,  0.1584,  0.1506,  0.1798],\n",
            "        [ 0.2851,  0.2855,  0.2870,  0.2856,  0.2843,  0.2903,  0.2942,  0.2824,\n",
            "          0.2595,  0.2501,  0.2513,  0.2516,  0.2513,  0.2881,  0.1805,  0.0190,\n",
            "          0.1194,  0.2845,  0.3192,  0.2821,  0.2514,  0.2426,  0.2381,  0.2432,\n",
            "          0.2191,  0.2094,  0.2048,  0.1267,  0.1121,  0.1112],\n",
            "        [ 0.2883,  0.2878,  0.2886,  0.2855,  0.2825,  0.2877,  0.2930,  0.2829,\n",
            "          0.2617,  0.2519,  0.2490,  0.2498,  0.2617,  0.2955,  0.1371,  0.0183,\n",
            "          0.2247,  0.3172,  0.2439,  0.2534,  0.2897,  0.2376,  0.1544,  0.2116,\n",
            "          0.2950,  0.1804,  0.0566,  0.0324,  0.0459,  0.0839],\n",
            "        [ 0.2933,  0.2923,  0.2893,  0.2867,  0.2861,  0.2890,  0.2930,  0.2798,\n",
            "          0.2603,  0.2523,  0.2427,  0.2447,  0.2825,  0.2812,  0.1097,  0.0638,\n",
            "          0.2496,  0.2685,  0.2272,  0.2468,  0.2639,  0.2432,  0.1568,  0.1792,\n",
            "          0.2494,  0.0686, -0.1214, -0.0199,  0.1332,  0.2119],\n",
            "        [ 0.2816,  0.2827,  0.2822,  0.2835,  0.2917,  0.2931,  0.2842,  0.2673,\n",
            "          0.2530,  0.2516,  0.2414,  0.2421,  0.2787,  0.2536,  0.1354,  0.1079,\n",
            "          0.2211,  0.2487,  0.2519,  0.2591,  0.2296,  0.2708,  0.2720,  0.0844,\n",
            "         -0.0577, -0.0176,  0.0933,  0.2222,  0.2992,  0.3104],\n",
            "        [ 0.2623,  0.2782,  0.2806,  0.2715,  0.2749,  0.2696,  0.2392,  0.2252,\n",
            "          0.2422,  0.2581,  0.2503,  0.2435,  0.2603,  0.2315,  0.1973,  0.1423,\n",
            "          0.1384,  0.2423,  0.2639,  0.2403,  0.2654,  0.2557,  0.1554, -0.0434,\n",
            "         -0.0518,  0.1908,  0.3243,  0.3046,  0.2799,  0.2691],\n",
            "        [ 0.2926,  0.3106,  0.2869,  0.2547,  0.2313,  0.2087,  0.1745,  0.1634,\n",
            "          0.2036,  0.2517,  0.2530,  0.2413,  0.2581,  0.2134,  0.1901,  0.2129,\n",
            "          0.1221,  0.1840,  0.2619,  0.2736,  0.3031,  0.1021, -0.0205,  0.1212,\n",
            "          0.2246,  0.2827,  0.2825,  0.2561,  0.2580,  0.2598],\n",
            "        [ 0.3331,  0.2946,  0.2277,  0.1940,  0.1547,  0.1075,  0.1048,  0.1361,\n",
            "          0.1492,  0.1882,  0.2281,  0.2410,  0.2604,  0.2346,  0.1651,  0.2660,\n",
            "          0.2337,  0.0955,  0.2446,  0.2977,  0.0959,  0.0239,  0.1666,  0.2160,\n",
            "          0.1686,  0.1808,  0.2258,  0.2466,  0.2464,  0.2459],\n",
            "        [ 0.3007,  0.2193,  0.1192,  0.0674,  0.0521,  0.0282,  0.0347,  0.0810,\n",
            "          0.1091,  0.1300,  0.1783,  0.2190,  0.2487,  0.2490,  0.1871,  0.1947,\n",
            "          0.3172,  0.2235,  0.1827,  0.1349,  0.0519,  0.1139,  0.1307,  0.1068,\n",
            "          0.1040,  0.1535,  0.2262,  0.2529,  0.2587,  0.2610],\n",
            "        [ 0.2583,  0.1458,  0.0301, -0.0121, -0.0140, -0.0040, -0.0037,  0.0115,\n",
            "          0.0978,  0.1439,  0.1355,  0.1643,  0.2029,  0.2307,  0.2096,  0.1763,\n",
            "          0.2414,  0.3064,  0.1240, -0.0182, -0.0156,  0.0603,  0.0896,  0.0730,\n",
            "          0.1322,  0.2059,  0.2489,  0.2561,  0.2495,  0.2450],\n",
            "        [ 0.2240,  0.0740, -0.0148,  0.0074,  0.0387,  0.0511,  0.0374,  0.0309,\n",
            "          0.0737,  0.0988,  0.1023,  0.1201,  0.1555,  0.1841,  0.1773,  0.2048,\n",
            "          0.1805,  0.0693,  0.0063,  0.0040,  0.0374,  0.0471,  0.1192,  0.1523,\n",
            "          0.2078,  0.2630,  0.2351,  0.2207,  0.1961,  0.2042],\n",
            "        [ 0.2065,  0.0774, -0.0004,  0.0301,  0.0769,  0.0863,  0.0333,  0.0177,\n",
            "          0.0638,  0.0736,  0.0849,  0.0842,  0.0838,  0.0912,  0.0801,  0.0641,\n",
            "          0.0122, -0.0627, -0.0331,  0.0570,  0.1719,  0.1319,  0.0657,  0.1781,\n",
            "          0.2318,  0.1671,  0.0978,  0.0622,  0.1303,  0.2201],\n",
            "        [ 0.1766,  0.0641,  0.0272,  0.0421,  0.0964,  0.0951,  0.0206,  0.0272,\n",
            "          0.0748,  0.0685,  0.0590,  0.0489,  0.0386,  0.0325,  0.0165, -0.0115,\n",
            "         -0.0117,  0.0160,  0.0401, -0.0276, -0.0738,  0.0605,  0.1057, -0.0022,\n",
            "         -0.0639, -0.0227,  0.0276,  0.1026,  0.2169,  0.2644],\n",
            "        [ 0.1869,  0.0721,  0.0603,  0.0853,  0.0893,  0.0375, -0.0093,  0.0278,\n",
            "          0.0423,  0.0150, -0.0122, -0.0369, -0.0454, -0.0640, -0.0635, -0.0272,\n",
            "         -0.0441, -0.0732, -0.0600, -0.0639, -0.0825, -0.0378,  0.0423, -0.0154,\n",
            "         -0.0115,  0.1417,  0.2522,  0.2995,  0.3006,  0.2665],\n",
            "        [ 0.2313,  0.1764, -0.0231, -0.0670,  0.0055, -0.0420, -0.0827, -0.0261,\n",
            "         -0.0321, -0.0637, -0.0863, -0.0852, -0.0775, -0.0688, -0.0511, -0.0679,\n",
            "         -0.0806, -0.0330,  0.0091,  0.0270,  0.0748, -0.0293, -0.0327,  0.2335,\n",
            "          0.3041,  0.2928,  0.2965,  0.2932,  0.2788,  0.2683],\n",
            "        [ 0.1636,  0.1064, -0.0267, -0.1436, -0.0922, -0.0562, -0.0758, -0.0882,\n",
            "         -0.1033, -0.0907, -0.0420,  0.0148,  0.0450,  0.0417,  0.0028, -0.0373,\n",
            "         -0.0015,  0.1279,  0.1730,  0.0847,  0.0690,  0.0601,  0.0139,  0.2267,\n",
            "          0.3486,  0.2729,  0.2628,  0.2628,  0.2598,  0.2575],\n",
            "        [ 0.1864,  0.1148,  0.1803,  0.1019, -0.0329,  0.0018,  0.0092, -0.0568,\n",
            "         -0.0533,  0.0092,  0.0902,  0.1337,  0.0955,  0.0229, -0.0230,  0.0583,\n",
            "          0.1830,  0.2087,  0.1764,  0.1592,  0.1089,  0.0885,  0.1167,  0.1857,\n",
            "          0.2716,  0.2613,  0.2530,  0.2548,  0.2532,  0.2541],\n",
            "        [ 0.2313,  0.1589,  0.1781,  0.2009,  0.0689,  0.0273,  0.0109,  0.0093,\n",
            "          0.1073,  0.1622,  0.0258, -0.1018, -0.0807, -0.0483,  0.0093,  0.1386,\n",
            "          0.2327,  0.2281,  0.1799,  0.1477,  0.1650,  0.2441,  0.3286,  0.2945,\n",
            "          0.2642,  0.2607,  0.2506,  0.2555,  0.2571,  0.2580],\n",
            "        [ 0.2411,  0.2215,  0.1599,  0.1667,  0.1531,  0.0615,  0.0674,  0.1543,\n",
            "          0.1113, -0.0406, -0.1326, -0.1289,  0.0018,  0.1214,  0.1917,  0.2443,\n",
            "          0.2631,  0.2486,  0.2210,  0.1968,  0.2407,  0.3349,  0.3526,  0.2995,\n",
            "          0.2654,  0.2551,  0.2492,  0.2537,  0.2538,  0.2535],\n",
            "        [ 0.2453,  0.2458,  0.2161,  0.1511,  0.1312,  0.0891,  0.1152,  0.1220,\n",
            "         -0.0295, -0.1616, -0.0460,  0.1410,  0.2201,  0.2590,  0.2680,  0.2495,\n",
            "          0.2479,  0.2553,  0.2593,  0.2484,  0.2378,  0.2529,  0.2612,  0.2548,\n",
            "          0.2559,  0.2534,  0.2523,  0.2537,  0.2538,  0.2535],\n",
            "        [ 0.2187,  0.2275,  0.2467,  0.1797,  0.0862,  0.0921,  0.1379,  0.1055,\n",
            "         -0.0398, -0.1196,  0.0168,  0.2159,  0.2708,  0.2748,  0.2603,  0.2438,\n",
            "          0.2480,  0.2564,  0.2599,  0.2552,  0.2535,  0.2608,  0.2596,  0.2493,\n",
            "          0.2511,  0.2560,  0.2551,  0.2537,  0.2538,  0.2535],\n",
            "        [ 0.1429,  0.1602,  0.1922,  0.1306,  0.0201,  0.0525,  0.1328,  0.1063,\n",
            "         -0.0249, -0.0869,  0.0408,  0.1988,  0.2459,  0.2637,  0.2543,  0.2559,\n",
            "          0.2617,  0.2597,  0.2548,  0.2515,  0.2536,  0.2584,  0.2569,  0.2524,\n",
            "          0.2528,  0.2550,  0.2545,  0.2537,  0.2538,  0.2535],\n",
            "        [ 0.0733,  0.1002,  0.1081,  0.0182, -0.0455,  0.0181,  0.1128,  0.1003,\n",
            "         -0.0168, -0.0683,  0.0400,  0.1747,  0.2282,  0.2573,  0.2525,  0.2537,\n",
            "          0.2542,  0.2537,  0.2537,  0.2537,  0.2537,  0.2537,  0.2537,  0.2537,\n",
            "          0.2537,  0.2537,  0.2537,  0.2537,  0.2538,  0.2535],\n",
            "        [ 0.0387,  0.0532,  0.0287, -0.0284, -0.0455, -0.0207,  0.0837,  0.1170,\n",
            "         -0.0197, -0.0831,  0.0166,  0.1623,  0.2262,  0.2587,  0.2541,  0.2544,\n",
            "          0.2533,  0.2517,  0.2524,  0.2537,  0.2538,  0.2537,  0.2537,  0.2537,\n",
            "          0.2537,  0.2537,  0.2537,  0.2537,  0.2538,  0.2535],\n",
            "        [ 0.0281,  0.0101, -0.0037, -0.0230, -0.0097, -0.0025,  0.0830,  0.1278,\n",
            "         -0.0116, -0.0795,  0.0341,  0.1693,  0.2135,  0.2593,  0.2594,  0.2535,\n",
            "          0.2502,  0.2475,  0.2465,  0.2515,  0.2537,  0.2538,  0.2537,  0.2537,\n",
            "          0.2537,  0.2537,  0.2537,  0.2537,  0.2538,  0.2535],\n",
            "        [ 0.0079,  0.0040,  0.0298,  0.0214, -0.0351,  0.0033,  0.1273,  0.1404,\n",
            "          0.0121, -0.0566,  0.0646,  0.1714,  0.1529,  0.1949,  0.2233,  0.2427,\n",
            "          0.2476,  0.2507,  0.2528,  0.2525,  0.2534,  0.2542,  0.2537,  0.2537,\n",
            "          0.2537,  0.2537,  0.2537,  0.2537,  0.2538,  0.2535],\n",
            "        [ 0.0161,  0.0067,  0.0065, -0.0109, -0.0447,  0.0016,  0.0984,  0.0765,\n",
            "         -0.0028, -0.0610,  0.0459,  0.1458,  0.0955,  0.1148,  0.1456,  0.1938,\n",
            "          0.2286,  0.2488,  0.2626,  0.2588,  0.2518,  0.2536,  0.2537,  0.2537,\n",
            "          0.2537,  0.2537,  0.2537,  0.2537,  0.2538,  0.2535]])\n"
          ],
          "name": "stdout"
        }
      ]
    },
    {
      "cell_type": "code",
      "metadata": {
        "id": "FWsbiGPH_Syq",
        "colab_type": "code",
        "colab": {}
      },
      "source": [
        "#!pip install torchviz "
      ],
      "execution_count": 0,
      "outputs": []
    },
    {
      "cell_type": "code",
      "metadata": {
        "id": "zTICJuvO-ZrZ",
        "colab_type": "code",
        "colab": {
          "base_uri": "https://localhost:8080/",
          "height": 302
        },
        "outputId": "764eec61-71c3-46e9-b2dd-1de7213d876b"
      },
      "source": [
        "# Explaining the usage of detach\n",
        "from torchviz import make_dot\n",
        "x=torch.ones(10, requires_grad=True)\n",
        "\n",
        "y=x**2\n",
        "z=x**3\n",
        "r=(y+z).sum()\n",
        "make_dot(r).render(\"attached\", format=\"png\")\n",
        "\n",
        "from IPython.display import Image\n",
        "Image('attached.png')\n",
        "\n"
      ],
      "execution_count": 60,
      "outputs": [
        {
          "output_type": "execute_result",
          "data": {
            "image/png": "[encoded data removed]",
            "text/plain": [
              "<IPython.core.display.Image object>"
            ]
          },
          "metadata": {
            "tags": []
          },
          "execution_count": 60
        }
      ]
    },
    {
      "cell_type": "code",
      "metadata": {
        "id": "5O5QHus1AX4q",
        "colab_type": "code",
        "colab": {
          "base_uri": "https://localhost:8080/",
          "height": 35
        },
        "outputId": "cb36d953-3c42-4194-880c-411f705d7614"
      },
      "source": [
        "r.backward()\n",
        "x.grad"
      ],
      "execution_count": 61,
      "outputs": [
        {
          "output_type": "execute_result",
          "data": {
            "text/plain": [
              "tensor([5., 5., 5., 5., 5., 5., 5., 5., 5., 5.])"
            ]
          },
          "metadata": {
            "tags": []
          },
          "execution_count": 61
        }
      ]
    },
    {
      "cell_type": "code",
      "metadata": {
        "id": "QufOEzOt_tEu",
        "colab_type": "code",
        "colab": {
          "base_uri": "https://localhost:8080/",
          "height": 302
        },
        "outputId": "9d751a89-a3cf-45bf-9990-cb63dde642c5"
      },
      "source": [
        "y=x**2\n",
        "z=x.detach()**3\n",
        "r1=(y+z).sum()    \n",
        "make_dot(r).render(\"detached\", format=\"png\")\n",
        "\n",
        "from IPython.display import Image\n",
        "Image('detached.png')\n",
        "\n"
      ],
      "execution_count": 62,
      "outputs": [
        {
          "output_type": "execute_result",
          "data": {
            "image/png": "[encoded data removed]",
            "text/plain": [
              "<IPython.core.display.Image object>"
            ]
          },
          "metadata": {
            "tags": []
          },
          "execution_count": 62
        }
      ]
    },
    {
      "cell_type": "code",
      "metadata": {
        "id": "73v6jwhYAaiW",
        "colab_type": "code",
        "colab": {
          "base_uri": "https://localhost:8080/",
          "height": 35
        },
        "outputId": "d31b80e6-0b90-4815-9f3a-5a789a5993ec"
      },
      "source": [
        "x.grad.zero_()\n",
        "r1.backward()\n",
        "x.grad"
      ],
      "execution_count": 63,
      "outputs": [
        {
          "output_type": "execute_result",
          "data": {
            "text/plain": [
              "tensor([2., 2., 2., 2., 2., 2., 2., 2., 2., 2.])"
            ]
          },
          "metadata": {
            "tags": []
          },
          "execution_count": 63
        }
      ]
    },
    {
      "cell_type": "markdown",
      "metadata": {
        "id": "vgKOQ-pc_7-G",
        "colab_type": "text"
      },
      "source": [
        "### Note that x is detached before being used in computation of z. And this is the graph of this modified fragment:\n",
        "\n",
        "### detached graph\n",
        "\n",
        "### As can be seen the branch of computation with x**3 is no longer tracked. This is reflected in the gradient of the result which no longer records the contribution of this branch:\n"
      ]
    },
    {
      "cell_type": "code",
      "metadata": {
        "id": "pkiE-I1-80yw",
        "colab_type": "code",
        "colab": {
          "base_uri": "https://localhost:8080/",
          "height": 35
        },
        "outputId": "1cce5303-76c7-4366-e773-4a181b40f0bf"
      },
      "source": [
        "# After applying convolution we got 16 channels of 30x30 lets plot one channel\n",
        "out1 = out[0, 0, :, :].detach().numpy() # for zeroth batch , take zeroth channel's all 30x30 values \n",
        "# To my understanding, detach disables automatic differentiation, i.e stops keeping track of gradients. thus giving just a te nsor which is later converted to numpy\n",
        "\n",
        "print(out1.shape)"
      ],
      "execution_count": 39,
      "outputs": [
        {
          "output_type": "stream",
          "text": [
            "(30, 30)\n"
          ],
          "name": "stdout"
        }
      ]
    },
    {
      "cell_type": "code",
      "metadata": {
        "id": "MUbbE5BM9Ork",
        "colab_type": "code",
        "colab": {
          "base_uri": "https://localhost:8080/",
          "height": 266
        },
        "outputId": "5d88bd67-cf5a-4725-a015-c91cfa1f4e16"
      },
      "source": [
        "plt.imshow(out[0, 0, :, :].detach().numpy())\n",
        "plt.show()\n",
        "# Some deer features can be seen"
      ],
      "execution_count": 64,
      "outputs": [
        {
          "output_type": "display_data",
          "data": {
            "image/png": "[encoded data removed]",
            "text/plain": [
              "<Figure size 432x288 with 1 Axes>"
            ]
          },
          "metadata": {
            "tags": [],
            "needs_background": "light"
          }
        }
      ]
    },
    {
      "cell_type": "markdown",
      "metadata": {
        "id": "s0CU6eWEBmJm",
        "colab_type": "text"
      },
      "source": [
        "## Deep Convolutional Network"
      ]
    },
    {
      "cell_type": "code",
      "metadata": {
        "id": "vupid_o7B2RC",
        "colab_type": "code",
        "colab": {}
      },
      "source": [
        "class FirstCNN_v2(nn.Module) :\n",
        "\n",
        "  def __init__(self):\n",
        "    super(FirstCNN_v2,self).__init__()\n",
        "\n",
        "    self.model = nn.Sequential( # N denotes Batch size\n",
        "        nn.Conv2d(3, 8, 3),   # (N, 3, 32, 32) -> (N, 8, 30, 30)\n",
        "            nn.Conv2d(8, 16, 3)   # (N, 8, 30, 30) -> (N, 16, 28, 28)\n",
        "        )\n",
        "    \n",
        "  def forward(self, x):\n",
        "        x = self.model(x)\n",
        "        return x"
      ],
      "execution_count": 0,
      "outputs": []
    },
    {
      "cell_type": "code",
      "metadata": {
        "id": "8mx5d3spDXvW",
        "colab_type": "code",
        "colab": {
          "base_uri": "https://localhost:8080/",
          "height": 35
        },
        "outputId": "ffe012fc-3e71-444b-9e0c-edd9a6129400"
      },
      "source": [
        "net = FirstCNN_v2()\n",
        "out = net(images)\n",
        "out.shape"
      ],
      "execution_count": 69,
      "outputs": [
        {
          "output_type": "execute_result",
          "data": {
            "text/plain": [
              "torch.Size([4, 16, 28, 28])"
            ]
          },
          "metadata": {
            "tags": []
          },
          "execution_count": 69
        }
      ]
    },
    {
      "cell_type": "code",
      "metadata": {
        "id": "79tRvZWDDqCn",
        "colab_type": "code",
        "colab": {
          "base_uri": "https://localhost:8080/",
          "height": 283
        },
        "outputId": "f5277a3c-d85a-4404-cf84-f072bce818bd"
      },
      "source": [
        "plt.imshow(out[0, 0, :, :].detach().numpy())"
      ],
      "execution_count": 70,
      "outputs": [
        {
          "output_type": "execute_result",
          "data": {
            "text/plain": [
              "<matplotlib.image.AxesImage at 0x7fe754cf82b0>"
            ]
          },
          "metadata": {
            "tags": []
          },
          "execution_count": 70
        },
        {
          "output_type": "display_data",
          "data": {
            "image/png": "[encoded data removed]",
            "text/plain": [
              "<Figure size 432x288 with 1 Axes>"
            ]
          },
          "metadata": {
            "tags": [],
            "needs_background": "light"
          }
        }
      ]
    },
    {
      "cell_type": "code",
      "metadata": {
        "id": "VV6NzQJtDsHC",
        "colab_type": "code",
        "colab": {}
      },
      "source": [
        "class FirstCNN_v3(nn.Module):\n",
        "    def __init__(self): \n",
        "        super(FirstCNN_v3, self).__init__()\n",
        "        self.model = nn.Sequential(\n",
        "            nn.Conv2d(3, 6, 5),          # (N, 3, 32, 32) -> (N, 6, 28, 28)\n",
        "            nn.AvgPool2d(2, stride=2),   # (N, 6, 28, 28) -> (N, 6, 14, 14)\n",
        "            nn.Conv2d(6, 16, 5),         # (N, 6, 14, 14) -> (N, 16, 10, 10)\n",
        "            nn.AvgPool2d(2, stride=2)    # (N, 16, 10, 10) -> (N, 16, 5, 5)\n",
        "        )\n",
        "        \n",
        "    def forward(self, x):\n",
        "        x = self.model(x)\n",
        "        return x"
      ],
      "execution_count": 0,
      "outputs": []
    },
    {
      "cell_type": "code",
      "metadata": {
        "id": "JyoRYIK-DuoQ",
        "colab_type": "code",
        "colab": {
          "base_uri": "https://localhost:8080/",
          "height": 35
        },
        "outputId": "d04c8f22-09fa-4234-cf5a-8c307d40fd23"
      },
      "source": [
        "net = FirstCNN_v3()\n",
        "out = net(images)\n",
        "out.shape"
      ],
      "execution_count": 72,
      "outputs": [
        {
          "output_type": "execute_result",
          "data": {
            "text/plain": [
              "torch.Size([4, 16, 5, 5])"
            ]
          },
          "metadata": {
            "tags": []
          },
          "execution_count": 72
        }
      ]
    },
    {
      "cell_type": "code",
      "metadata": {
        "id": "r-xqdi8xDwhX",
        "colab_type": "code",
        "colab": {
          "base_uri": "https://localhost:8080/",
          "height": 283
        },
        "outputId": "2369c912-f944-438d-a113-e6a588eed2f6"
      },
      "source": [
        "plt.imshow(out[0, 0, :, :].detach().numpy())"
      ],
      "execution_count": 73,
      "outputs": [
        {
          "output_type": "execute_result",
          "data": {
            "text/plain": [
              "<matplotlib.image.AxesImage at 0x7fe7536634e0>"
            ]
          },
          "metadata": {
            "tags": []
          },
          "execution_count": 73
        },
        {
          "output_type": "display_data",
          "data": {
            "image/png": "[encoded data removed]",
            "text/plain": [
              "<Figure size 432x288 with 1 Axes>"
            ]
          },
          "metadata": {
            "tags": [],
            "needs_background": "light"
          }
        }
      ]
    },
    {
      "cell_type": "markdown",
      "metadata": {
        "id": "4SC6yqxSD2r9",
        "colab_type": "text"
      },
      "source": [
        "##  Training LeNet from Scratch"
      ]
    },
    {
      "cell_type": "code",
      "metadata": {
        "id": "P7SSeMyqD6ig",
        "colab_type": "code",
        "colab": {}
      },
      "source": [
        ""
      ],
      "execution_count": 0,
      "outputs": []
    },
    {
      "cell_type": "code",
      "metadata": {
        "id": "sZJPjakpDyJ3",
        "colab_type": "code",
        "colab": {}
      },
      "source": [
        ""
      ],
      "execution_count": 0,
      "outputs": []
    },
    {
      "cell_type": "code",
      "metadata": {
        "id": "2CPqUw2xDb0f",
        "colab_type": "code",
        "colab": {}
      },
      "source": [
        ""
      ],
      "execution_count": 0,
      "outputs": []
    },
    {
      "cell_type": "code",
      "metadata": {
        "id": "48B73MxfBYAv",
        "colab_type": "code",
        "colab": {}
      },
      "source": [
        ""
      ],
      "execution_count": 0,
      "outputs": []
    },
    {
      "cell_type": "code",
      "metadata": {
        "id": "PHREp5w_8Pvo",
        "colab_type": "code",
        "colab": {}
      },
      "source": [
        ""
      ],
      "execution_count": 0,
      "outputs": []
    },
    {
      "cell_type": "code",
      "metadata": {
        "id": "4gX0lue97qSV",
        "colab_type": "code",
        "colab": {}
      },
      "source": [
        ""
      ],
      "execution_count": 0,
      "outputs": []
    },
    {
      "cell_type": "code",
      "metadata": {
        "id": "oo-mN9tw7iav",
        "colab_type": "code",
        "colab": {}
      },
      "source": [
        ""
      ],
      "execution_count": 0,
      "outputs": []
    },
    {
      "cell_type": "code",
      "metadata": {
        "id": "z9mUuiP41hfW",
        "colab_type": "code",
        "colab": {}
      },
      "source": [
        ""
      ],
      "execution_count": 0,
      "outputs": []
    },
    {
      "cell_type": "code",
      "metadata": {
        "id": "Nxr7TxJG08z5",
        "colab_type": "code",
        "colab": {}
      },
      "source": [
        ""
      ],
      "execution_count": 0,
      "outputs": []
    },
    {
      "cell_type": "code",
      "metadata": {
        "id": "RHqIbBpWzyXF",
        "colab_type": "code",
        "colab": {}
      },
      "source": [
        ""
      ],
      "execution_count": 0,
      "outputs": []
    },
    {
      "cell_type": "code",
      "metadata": {
        "id": "82fFDeuFzihC",
        "colab_type": "code",
        "colab": {}
      },
      "source": [
        ""
      ],
      "execution_count": 0,
      "outputs": []
    },
    {
      "cell_type": "code",
      "metadata": {
        "id": "coKNrwkYzUKG",
        "colab_type": "code",
        "colab": {}
      },
      "source": [
        ""
      ],
      "execution_count": 0,
      "outputs": []
    },
    {
      "cell_type": "code",
      "metadata": {
        "id": "0MyZMMPXwdv7",
        "colab_type": "code",
        "colab": {}
      },
      "source": [
        ""
      ],
      "execution_count": 0,
      "outputs": []
    },
    {
      "cell_type": "code",
      "metadata": {
        "id": "FcsiTMJ4vr-s",
        "colab_type": "code",
        "colab": {}
      },
      "source": [
        ""
      ],
      "execution_count": 0,
      "outputs": []
    }
  ]
}