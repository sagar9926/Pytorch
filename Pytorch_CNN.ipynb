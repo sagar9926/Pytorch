{
  "nbformat": 4,
  "nbformat_minor": 0,
  "metadata": {
    "colab": {
      "name": "Pytorch CNN.ipynb",
      "provenance": [],
      "authorship_tag": "ABX9TyPD09WkkeaWIrtxEvZa8QwD",
      "include_colab_link": true
    },
    "kernelspec": {
      "name": "python3",
      "display_name": "Python 3"
    },
    "accelerator": "GPU",
    "widgets": {
      "application/vnd.jupyter.widget-state+json": {
        "ae0aa9b18659460489608943f753807e": {
          "model_module": "@jupyter-widgets/controls",
          "model_name": "HBoxModel",
          "state": {
            "_view_name": "HBoxView",
            "_dom_classes": [],
            "_model_name": "HBoxModel",
            "_view_module": "@jupyter-widgets/controls",
            "_model_module_version": "1.5.0",
            "_view_count": null,
            "_view_module_version": "1.5.0",
            "box_style": "",
            "layout": "IPY_MODEL_53c4ff8801f740c09d124863f22bc21e",
            "_model_module": "@jupyter-widgets/controls",
            "children": [
              "IPY_MODEL_a8eda9cdfc3c43489da5b66ac235cf85",
              "IPY_MODEL_e1853d647dd546228739b6dbfc3ecdc2"
            ]
          }
        },
        "53c4ff8801f740c09d124863f22bc21e": {
          "model_module": "@jupyter-widgets/base",
          "model_name": "LayoutModel",
          "state": {
            "_view_name": "LayoutView",
            "grid_template_rows": null,
            "right": null,
            "justify_content": null,
            "_view_module": "@jupyter-widgets/base",
            "overflow": null,
            "_model_module_version": "1.2.0",
            "_view_count": null,
            "flex_flow": null,
            "width": null,
            "min_width": null,
            "border": null,
            "align_items": null,
            "bottom": null,
            "_model_module": "@jupyter-widgets/base",
            "top": null,
            "grid_column": null,
            "overflow_y": null,
            "overflow_x": null,
            "grid_auto_flow": null,
            "grid_area": null,
            "grid_template_columns": null,
            "flex": null,
            "_model_name": "LayoutModel",
            "justify_items": null,
            "grid_row": null,
            "max_height": null,
            "align_content": null,
            "visibility": null,
            "align_self": null,
            "height": null,
            "min_height": null,
            "padding": null,
            "grid_auto_rows": null,
            "grid_gap": null,
            "max_width": null,
            "order": null,
            "_view_module_version": "1.2.0",
            "grid_template_areas": null,
            "object_position": null,
            "object_fit": null,
            "grid_auto_columns": null,
            "margin": null,
            "display": null,
            "left": null
          }
        },
        "a8eda9cdfc3c43489da5b66ac235cf85": {
          "model_module": "@jupyter-widgets/controls",
          "model_name": "IntProgressModel",
          "state": {
            "_view_name": "ProgressView",
            "style": "IPY_MODEL_401a7a81fc374c129ab0d17b68a7d830",
            "_dom_classes": [],
            "description": "",
            "_model_name": "IntProgressModel",
            "bar_style": "info",
            "max": 1,
            "_view_module": "@jupyter-widgets/controls",
            "_model_module_version": "1.5.0",
            "value": 1,
            "_view_count": null,
            "_view_module_version": "1.5.0",
            "orientation": "horizontal",
            "min": 0,
            "description_tooltip": null,
            "_model_module": "@jupyter-widgets/controls",
            "layout": "IPY_MODEL_9d0731e2a9634ca1afda01704fcce42b"
          }
        },
        "e1853d647dd546228739b6dbfc3ecdc2": {
          "model_module": "@jupyter-widgets/controls",
          "model_name": "HTMLModel",
          "state": {
            "_view_name": "HTMLView",
            "style": "IPY_MODEL_0564b9134b7543a899e17092b0e0e2ae",
            "_dom_classes": [],
            "description": "",
            "_model_name": "HTMLModel",
            "placeholder": "​",
            "_view_module": "@jupyter-widgets/controls",
            "_model_module_version": "1.5.0",
            "value": " 170500096/? [00:30&lt;00:00, 17044929.72it/s]",
            "_view_count": null,
            "_view_module_version": "1.5.0",
            "description_tooltip": null,
            "_model_module": "@jupyter-widgets/controls",
            "layout": "IPY_MODEL_8c58f4db7c0a4d708e8f4c0fee91f730"
          }
        },
        "401a7a81fc374c129ab0d17b68a7d830": {
          "model_module": "@jupyter-widgets/controls",
          "model_name": "ProgressStyleModel",
          "state": {
            "_view_name": "StyleView",
            "_model_name": "ProgressStyleModel",
            "description_width": "initial",
            "_view_module": "@jupyter-widgets/base",
            "_model_module_version": "1.5.0",
            "_view_count": null,
            "_view_module_version": "1.2.0",
            "bar_color": null,
            "_model_module": "@jupyter-widgets/controls"
          }
        },
        "9d0731e2a9634ca1afda01704fcce42b": {
          "model_module": "@jupyter-widgets/base",
          "model_name": "LayoutModel",
          "state": {
            "_view_name": "LayoutView",
            "grid_template_rows": null,
            "right": null,
            "justify_content": null,
            "_view_module": "@jupyter-widgets/base",
            "overflow": null,
            "_model_module_version": "1.2.0",
            "_view_count": null,
            "flex_flow": null,
            "width": null,
            "min_width": null,
            "border": null,
            "align_items": null,
            "bottom": null,
            "_model_module": "@jupyter-widgets/base",
            "top": null,
            "grid_column": null,
            "overflow_y": null,
            "overflow_x": null,
            "grid_auto_flow": null,
            "grid_area": null,
            "grid_template_columns": null,
            "flex": null,
            "_model_name": "LayoutModel",
            "justify_items": null,
            "grid_row": null,
            "max_height": null,
            "align_content": null,
            "visibility": null,
            "align_self": null,
            "height": null,
            "min_height": null,
            "padding": null,
            "grid_auto_rows": null,
            "grid_gap": null,
            "max_width": null,
            "order": null,
            "_view_module_version": "1.2.0",
            "grid_template_areas": null,
            "object_position": null,
            "object_fit": null,
            "grid_auto_columns": null,
            "margin": null,
            "display": null,
            "left": null
          }
        },
        "0564b9134b7543a899e17092b0e0e2ae": {
          "model_module": "@jupyter-widgets/controls",
          "model_name": "DescriptionStyleModel",
          "state": {
            "_view_name": "StyleView",
            "_model_name": "DescriptionStyleModel",
            "description_width": "",
            "_view_module": "@jupyter-widgets/base",
            "_model_module_version": "1.5.0",
            "_view_count": null,
            "_view_module_version": "1.2.0",
            "_model_module": "@jupyter-widgets/controls"
          }
        },
        "8c58f4db7c0a4d708e8f4c0fee91f730": {
          "model_module": "@jupyter-widgets/base",
          "model_name": "LayoutModel",
          "state": {
            "_view_name": "LayoutView",
            "grid_template_rows": null,
            "right": null,
            "justify_content": null,
            "_view_module": "@jupyter-widgets/base",
            "overflow": null,
            "_model_module_version": "1.2.0",
            "_view_count": null,
            "flex_flow": null,
            "width": null,
            "min_width": null,
            "border": null,
            "align_items": null,
            "bottom": null,
            "_model_module": "@jupyter-widgets/base",
            "top": null,
            "grid_column": null,
            "overflow_y": null,
            "overflow_x": null,
            "grid_auto_flow": null,
            "grid_area": null,
            "grid_template_columns": null,
            "flex": null,
            "_model_name": "LayoutModel",
            "justify_items": null,
            "grid_row": null,
            "max_height": null,
            "align_content": null,
            "visibility": null,
            "align_self": null,
            "height": null,
            "min_height": null,
            "padding": null,
            "grid_auto_rows": null,
            "grid_gap": null,
            "max_width": null,
            "order": null,
            "_view_module_version": "1.2.0",
            "grid_template_areas": null,
            "object_position": null,
            "object_fit": null,
            "grid_auto_columns": null,
            "margin": null,
            "display": null,
            "left": null
          }
        }
      }
    }
  },
  "cells": [
    {
      "cell_type": "markdown",
      "metadata": {
        "id": "view-in-github",
        "colab_type": "text"
      },
      "source": [
        "<a href=\"https://colab.research.google.com/github/sagar9926/Pytorch/blob/master/Pytorch_CNN.ipynb\" target=\"_parent\"><img src=\"https://colab.research.google.com/assets/colab-badge.svg\" alt=\"Open In Colab\"/></a>"
      ]
    },
    {
      "cell_type": "markdown",
      "metadata": {
        "id": "i59EnUCowYYa",
        "colab_type": "text"
      },
      "source": [
        "## Outline\n",
        "\n",
        "* Downloading dataset (CIFAR10)\n",
        "* `Dataloader` in `torch.utils`\n",
        "* Visualising images\n",
        "* Single and multiple convolutional layers\n",
        "* LeNet\n",
        "* Training LeNet\n",
        "* Training on GPU\n",
        "* Simple visualisation\n",
        "* Exercises"
      ]
    },
    {
      "cell_type": "code",
      "metadata": {
        "id": "SIMbmZJzwZ6r",
        "colab_type": "code",
        "colab": {}
      },
      "source": [
        "import torch\n",
        "import matplotlib.pyplot as plt\n",
        "import numpy as np"
      ],
      "execution_count": 0,
      "outputs": []
    },
    {
      "cell_type": "markdown",
      "metadata": {
        "id": "zYvcE15Hwet-",
        "colab_type": "text"
      },
      "source": [
        "## Data loading"
      ]
    },
    {
      "cell_type": "code",
      "metadata": {
        "id": "0mqeyU4hwgj7",
        "colab_type": "code",
        "colab": {
          "base_uri": "https://localhost:8080/",
          "height": 84,
          "referenced_widgets": [
            "ae0aa9b18659460489608943f753807e",
            "53c4ff8801f740c09d124863f22bc21e",
            "a8eda9cdfc3c43489da5b66ac235cf85",
            "e1853d647dd546228739b6dbfc3ecdc2",
            "401a7a81fc374c129ab0d17b68a7d830",
            "9d0731e2a9634ca1afda01704fcce42b",
            "0564b9134b7543a899e17092b0e0e2ae",
            "8c58f4db7c0a4d708e8f4c0fee91f730"
          ]
        },
        "outputId": "846457c3-f3bb-428e-b095-087d99dee976"
      },
      "source": [
        "import torchvision\n",
        "import torchvision.transforms as transforms\n",
        "\n",
        "# Cifar is divided into 5 training batches and one test batches\n",
        "trainset = torchvision.datasets.CIFAR10(root = './data',train = True  # yes i want to train this data\n",
        "                                        ,download = True # yes i want to download it locally\n",
        "                                        , transform=transforms.ToTensor())# apllying certain functions to the data at downlading step itself... Transform to tensor\n",
        "\n",
        "                    \n",
        "\n",
        "# .datasets hesl us to work with the images in aggregated format instead in form pof different bactes of 10k images each"
      ],
      "execution_count": 8,
      "outputs": [
        {
          "output_type": "stream",
          "text": [
            "Downloading https://www.cs.toronto.edu/~kriz/cifar-10-python.tar.gz to ./data/cifar-10-python.tar.gz\n"
          ],
          "name": "stdout"
        },
        {
          "output_type": "display_data",
          "data": {
            "application/vnd.jupyter.widget-view+json": {
              "model_id": "ae0aa9b18659460489608943f753807e",
              "version_minor": 0,
              "version_major": 2
            },
            "text/plain": [
              "HBox(children=(IntProgress(value=1, bar_style='info', max=1), HTML(value='')))"
            ]
          },
          "metadata": {
            "tags": []
          }
        },
        {
          "output_type": "stream",
          "text": [
            "Extracting ./data/cifar-10-python.tar.gz to ./data\n"
          ],
          "name": "stdout"
        }
      ]
    },
    {
      "cell_type": "code",
      "metadata": {
        "id": "D4-1WQuSxZkB",
        "colab_type": "code",
        "colab": {}
      },
      "source": [
        "classes = ('plane', 'car', 'bird', 'cat', 'deer', 'dog', 'frog', 'horse', 'ship', 'truck')"
      ],
      "execution_count": 0,
      "outputs": []
    },
    {
      "cell_type": "code",
      "metadata": {
        "id": "O7lRfT7NyKRU",
        "colab_type": "code",
        "colab": {}
      },
      "source": [
        "#Once we have dataset created locally we can load data from it in certain batchsizes e.g in our case batchsize is 4 \n",
        "# which means every time i load i will get a batch of 4 images randomlly or sequentially based on shuffle\n",
        "\n",
        "trainloader = torch.utils.data.DataLoader(trainset, batch_size=4, shuffle=True)"
      ],
      "execution_count": 0,
      "outputs": []
    },
    {
      "cell_type": "code",
      "metadata": {
        "id": "-0Ernf-wxlOu",
        "colab_type": "code",
        "colab": {
          "base_uri": "https://localhost:8080/",
          "height": 70
        },
        "outputId": "86da88fe-8b6a-48bd-c1e7-d36e3d9cc01b"
      },
      "source": [
        "# To access the train loader we have to c reate a iterator for that\n",
        "\n",
        "dataiter = iter(trainloader)\n",
        "images, labels = dataiter.next() # this gives us one instance of four images and their corresponding labels\n",
        "\n",
        "print(images.shape) #[(Batch size, channels, size of image)]\n",
        "\n",
        "print(images[1].shape)\n",
        "print(labels[1].item())\n"
      ],
      "execution_count": 11,
      "outputs": [
        {
          "output_type": "stream",
          "text": [
            "torch.Size([4, 3, 32, 32])\n",
            "torch.Size([3, 32, 32])\n",
            "5\n"
          ],
          "name": "stdout"
        }
      ]
    },
    {
      "cell_type": "markdown",
      "metadata": {
        "id": "qnmfrTxGzpct",
        "colab_type": "text"
      },
      "source": [
        "## Visualise data"
      ]
    },
    {
      "cell_type": "code",
      "metadata": {
        "id": "UUWAKojizp2U",
        "colab_type": "code",
        "colab": {
          "base_uri": "https://localhost:8080/",
          "height": 35
        },
        "outputId": "be13a3ac-968c-4cd7-ec7a-e803b3e2b7b2"
      },
      "source": [
        "img = images[1]\n",
        "print(type(img),img.shape)"
      ],
      "execution_count": 12,
      "outputs": [
        {
          "output_type": "stream",
          "text": [
            "<class 'torch.Tensor'> torch.Size([3, 32, 32])\n"
          ],
          "name": "stdout"
        }
      ]
    },
    {
      "cell_type": "code",
      "metadata": {
        "id": "cYN9clhHz3Zj",
        "colab_type": "code",
        "colab": {
          "base_uri": "https://localhost:8080/",
          "height": 35
        },
        "outputId": "edaa9546-a4e6-4761-8c85-0b458110542d"
      },
      "source": [
        "# To plot the image first convert the image tensor to numpy\n",
        "\n",
        "np_img = img.numpy()\n",
        "print(np_img.shape)"
      ],
      "execution_count": 13,
      "outputs": [
        {
          "output_type": "stream",
          "text": [
            "(3, 32, 32)\n"
          ],
          "name": "stdout"
        }
      ]
    },
    {
      "cell_type": "code",
      "metadata": {
        "id": "GvVCdHN20G2Q",
        "colab_type": "code",
        "colab": {
          "base_uri": "https://localhost:8080/",
          "height": 35
        },
        "outputId": "edc18826-a859-44d8-c678-af938af9ba80"
      },
      "source": [
        "# To plot the image we need to transpose the image , permute the dimension\n",
        "# To be able to plot it we need it to be in the form of x,y,z where x and y correspond to the size of the image and z denotes the number of channels\n",
        "\n",
        "np_img = np.transpose(np_img,(1,2,0))\n",
        "print(np_img.shape)"
      ],
      "execution_count": 14,
      "outputs": [
        {
          "output_type": "stream",
          "text": [
            "(32, 32, 3)\n"
          ],
          "name": "stdout"
        }
      ]
    },
    {
      "cell_type": "code",
      "metadata": {
        "id": "AxbYz9Pq0u_W",
        "colab_type": "code",
        "colab": {
          "base_uri": "https://localhost:8080/",
          "height": 212
        },
        "outputId": "96daafdf-a8c8-4b5c-f73d-a2ccfa35c1ba"
      },
      "source": [
        "plt.figure(figsize = (3,3))\n",
        "plt.imshow(np_img) # to plot image using matplotlib\n",
        "plt.show() #32 x 32 image"
      ],
      "execution_count": 15,
      "outputs": [
        {
          "output_type": "display_data",
          "data": {
            "image/png": "[encoded data removed]",
            "text/plain": [
              "<Figure size 216x216 with 1 Axes>"
            ]
          },
          "metadata": {
            "tags": [],
            "needs_background": "light"
          }
        }
      ]
    },
    {
      "cell_type": "code",
      "metadata": {
        "id": "QLIYkMb21GLZ",
        "colab_type": "code",
        "colab": {}
      },
      "source": [
        "def imshow(img):\n",
        "    npimg = img.numpy()\n",
        "    plt.figure(figsize = (10,10))\n",
        "    plt.imshow(np.transpose(npimg, (1, 2, 0)))\n",
        "    plt.show()"
      ],
      "execution_count": 0,
      "outputs": []
    },
    {
      "cell_type": "code",
      "metadata": {
        "id": "1Yoy9nhK1sRA",
        "colab_type": "code",
        "colab": {
          "base_uri": "https://localhost:8080/",
          "height": 35
        },
        "outputId": "d7f069e2-7319-46c0-b0e4-d8298b9f20a1"
      },
      "source": [
        "torchvision.utils.make_grid(images).shape # This represents the stacked images of the batch with 2 pixel padding (32* 4 + 2*5(black borders) = 138)\n"
      ],
      "execution_count": 17,
      "outputs": [
        {
          "output_type": "execute_result",
          "data": {
            "text/plain": [
              "torch.Size([3, 36, 138])"
            ]
          },
          "metadata": {
            "tags": []
          },
          "execution_count": 17
        }
      ]
    },
    {
      "cell_type": "code",
      "metadata": {
        "id": "dRyoSFpg1Y8a",
        "colab_type": "code",
        "colab": {
          "base_uri": "https://localhost:8080/",
          "height": 212
        },
        "outputId": "ca4e995e-550b-49ea-9a7e-076f793e9d86"
      },
      "source": [
        "imshow(torchvision.utils.make_grid(images)) #To plot the entire batch, stacks up the images in form of long image in which individual image will apper in cells\n",
        "print(' '.join(classes[labels[j]] for j in range(4)))"
      ],
      "execution_count": 18,
      "outputs": [
        {
          "output_type": "display_data",
          "data": {
            "image/png": "[encoded data removed]",
            "text/plain": [
              "<Figure size 720x720 with 1 Axes>"
            ]
          },
          "metadata": {
            "tags": [],
            "needs_background": "light"
          }
        },
        {
          "output_type": "stream",
          "text": [
            "bird dog dog dog\n"
          ],
          "name": "stdout"
        }
      ]
    },
    {
      "cell_type": "markdown",
      "metadata": {
        "id": "zSYX-ugU2W7y",
        "colab_type": "text"
      },
      "source": [
        "## Single Convolutional Layer"
      ]
    },
    {
      "cell_type": "code",
      "metadata": {
        "id": "EAhiFc2f2bDL",
        "colab_type": "code",
        "colab": {}
      },
      "source": [
        "import torch.nn as nn\n",
        "\n",
        "class FirstCNN(nn.Module):\n",
        "\n",
        "  def __init__(self):\n",
        "    super(FirstCNN,self).__init__() # initialising the super class\n",
        "    self.conv1 = nn.Conv2d(3, 16, 3)#, padding=(1,1), stride=(2,2)) # padding=(1,1), stride=(2,2)) # performing single convolution operation\n",
        "\n",
        "        \n",
        "  def forward(self, x):\n",
        "    x = self.conv1(x)\n",
        "    return x"
      ],
      "execution_count": 0,
      "outputs": []
    },
    {
      "cell_type": "code",
      "metadata": {
        "id": "ViVEsJrO7nQZ",
        "colab_type": "code",
        "colab": {}
      },
      "source": [
        "net = FirstCNN()"
      ],
      "execution_count": 0,
      "outputs": []
    },
    {
      "cell_type": "code",
      "metadata": {
        "id": "Gn5LVjVN7noI",
        "colab_type": "code",
        "colab": {
          "base_uri": "https://localhost:8080/",
          "height": 35
        },
        "outputId": "62654f55-25e2-4f1c-981c-36c05d56a765"
      },
      "source": [
        "out = net(images)\n",
        "out.shape #output of first convolution(batchsize,channels,size of output)"
      ],
      "execution_count": 21,
      "outputs": [
        {
          "output_type": "execute_result",
          "data": {
            "text/plain": [
              "torch.Size([4, 16, 30, 30])"
            ]
          },
          "metadata": {
            "tags": []
          },
          "execution_count": 21
        }
      ]
    },
    {
      "cell_type": "code",
      "metadata": {
        "id": "9-FHyvQQ70qx",
        "colab_type": "code",
        "colab": {
          "base_uri": "https://localhost:8080/",
          "height": 52
        },
        "outputId": "c82b2ee5-1229-47f7-81ef-9ea1649be4b9"
      },
      "source": [
        "# In nn module we can explicitly print parameters as follows\n",
        "\n",
        "for param in net.parameters():\n",
        "    print(param.shape) #(16 KERNELS,INPUT 3 CHANNELS, KERNEL SIZE 3x3) # denote weights\n",
        "\n",
        "    #second output denotes bias , each kernel has one bias this 16 biases"
      ],
      "execution_count": 22,
      "outputs": [
        {
          "output_type": "stream",
          "text": [
            "torch.Size([16, 3, 3, 3])\n",
            "torch.Size([16])\n"
          ],
          "name": "stdout"
        }
      ]
    },
    {
      "cell_type": "code",
      "metadata": {
        "id": "mlMTScVe9jhw",
        "colab_type": "code",
        "colab": {
          "base_uri": "https://localhost:8080/",
          "height": 1000
        },
        "outputId": "91545026-6953-4c9c-d31c-b1d23d7098d6"
      },
      "source": [
        "print(out[0, 0, :, :])"
      ],
      "execution_count": 23,
      "outputs": [
        {
          "output_type": "stream",
          "text": [
            "tensor([[-2.5496e-01, -1.6950e-01, -9.2860e-02, -1.1992e-01, -8.3360e-02,\n",
            "         -2.6062e-01, -2.3516e-01, -2.4524e-01, -2.1759e-01, -1.5514e-01,\n",
            "         -2.8908e-01, -3.0425e-01, -1.8199e-01, -1.4724e-01, -7.8352e-02,\n",
            "         -1.4662e-01, -1.8240e-01, -1.9482e-01, -2.4186e-01, -2.0396e-01,\n",
            "         -1.9972e-01, -2.3711e-01, -1.1268e-01, -1.3078e-01, -2.2931e-01,\n",
            "         -1.8023e-01, -3.1173e-01, -2.2405e-01, -2.0384e-01, -1.4991e-01],\n",
            "        [-2.3517e-01, -1.8037e-01, -1.3231e-01, -2.4087e-01, -6.9892e-02,\n",
            "         -1.6207e-01, -1.5912e-01, -3.1824e-01, -2.3610e-01, -2.2229e-01,\n",
            "         -2.8376e-01, -2.5200e-01, -1.9065e-01, -1.8787e-01, -2.3225e-01,\n",
            "         -3.2886e-01, -2.7302e-01, -2.4783e-01, -2.2489e-01, -1.5829e-01,\n",
            "         -1.9449e-01, -2.2676e-01, -1.5869e-01, -1.7668e-01, -2.4966e-01,\n",
            "         -1.5469e-01, -1.9415e-01, -1.7148e-01, -2.1413e-01, -1.6699e-01],\n",
            "        [-2.1945e-01, -1.3404e-01, -1.3966e-01, -2.5850e-01, -1.3983e-01,\n",
            "         -2.0037e-01, -9.2017e-02, -2.3200e-01, -1.0149e-01, -1.5472e-01,\n",
            "         -2.5117e-01, -2.6903e-01, -2.5028e-01, -2.1144e-01, -2.7461e-01,\n",
            "         -3.4770e-01, -3.6217e-01, -3.4562e-01, -2.4858e-01, -1.7405e-01,\n",
            "         -1.9173e-01, -1.9212e-01, -2.0448e-01, -1.9896e-01, -2.3041e-01,\n",
            "         -1.8719e-01, -1.8365e-01, -1.7216e-01, -2.9061e-01, -2.0759e-01],\n",
            "        [-1.6927e-01, -1.1891e-01, -1.8543e-01, -2.4212e-01, -2.4418e-01,\n",
            "         -2.3060e-01, -1.7076e-01, -2.5574e-01, -2.1259e-01, -2.5560e-01,\n",
            "         -1.9889e-01, -2.8805e-01, -2.7628e-01, -1.7908e-01, -1.4328e-01,\n",
            "         -1.0791e-01, -1.7462e-01, -2.6652e-01, -2.5528e-01, -2.2717e-01,\n",
            "         -2.5146e-01, -2.0851e-01, -1.7129e-01, -2.2255e-01, -2.5355e-01,\n",
            "         -2.2422e-01, -1.7274e-01, -2.0372e-01, -3.0665e-01, -2.0499e-01],\n",
            "        [-1.8357e-01, -1.2389e-01, -2.0702e-01, -2.4533e-01, -2.8841e-01,\n",
            "         -2.0730e-01, -1.8537e-01, -1.9461e-01, -2.7567e-01, -3.0118e-01,\n",
            "         -2.8891e-01, -2.0959e-01, -2.9742e-01, -3.3484e-01, -2.5316e-01,\n",
            "         -1.3409e-01, -1.3727e-01, -2.1235e-01, -2.6662e-01, -2.6137e-01,\n",
            "         -3.0246e-01, -2.7930e-01, -1.5637e-01, -1.6300e-01, -2.9098e-01,\n",
            "         -2.6763e-01, -2.3309e-01, -1.9530e-01, -2.3248e-01, -1.2678e-01],\n",
            "        [-1.4429e-01, -1.7106e-01, -1.9974e-01, -1.6020e-01, -2.5700e-01,\n",
            "         -1.5627e-01, -1.8475e-01, -1.8573e-01, -2.4756e-01, -2.5034e-01,\n",
            "         -2.8702e-01, -3.2360e-01, -3.8455e-01, -3.2451e-01, -4.3351e-01,\n",
            "         -3.6635e-01, -1.8223e-01, -2.0031e-01, -2.4460e-01, -2.5349e-01,\n",
            "         -2.4947e-01, -2.9305e-01, -2.3468e-01, -1.7665e-01, -2.2079e-01,\n",
            "         -2.2965e-01, -1.9037e-01, -2.5116e-01, -2.0470e-01, -2.0705e-01],\n",
            "        [-1.5807e-01, -2.4764e-01, -2.5356e-01, -1.8020e-01, -2.3086e-01,\n",
            "         -1.4082e-01, -1.9524e-01, -2.5146e-01, -2.0790e-01, -2.8808e-01,\n",
            "         -3.0371e-01, -2.9663e-01, -4.3611e-01, -3.3764e-01, -2.7553e-01,\n",
            "         -3.8582e-01, -2.9437e-01, -1.8023e-01, -1.7023e-01, -1.8754e-01,\n",
            "         -1.5739e-01, -2.7061e-01, -2.5985e-01, -1.9739e-01, -2.3138e-01,\n",
            "         -1.8869e-01, -2.1957e-01, -2.0651e-01, -1.7524e-01, -2.9084e-01],\n",
            "        [-2.8571e-01, -2.8980e-01, -1.8694e-01, -2.6244e-01, -2.3637e-01,\n",
            "         -1.2057e-01, -9.2035e-02, -1.7966e-01, -1.5453e-01, -1.7772e-01,\n",
            "         -2.2739e-01, -9.0174e-02, -7.6988e-02, -1.1599e-01, -1.6313e-01,\n",
            "         -1.9556e-01, -2.9486e-01, -2.5321e-01, -1.8499e-01, -1.7909e-01,\n",
            "         -1.7420e-01, -2.5241e-01, -2.1916e-01, -2.6101e-01, -1.6153e-01,\n",
            "         -2.1660e-01, -2.6570e-01, -1.4878e-01, -2.0753e-01, -1.4857e-01],\n",
            "        [-2.6025e-01, -3.2718e-01, -2.0786e-01, -2.5578e-01, -2.5064e-01,\n",
            "         -1.2964e-01, -1.1294e-01, -2.0939e-01, -2.3947e-01, -1.7335e-01,\n",
            "         -1.8523e-01, -3.4782e-02,  4.5231e-02, -2.5916e-02, -1.0052e-01,\n",
            "         -1.5344e-01, -3.0999e-01, -3.7394e-01, -2.3542e-01, -2.1188e-01,\n",
            "         -2.2780e-01, -2.0775e-01, -2.4856e-01, -2.2703e-01, -1.5805e-01,\n",
            "         -2.1970e-01, -2.4592e-01, -9.1968e-02, -1.6110e-01, -1.2927e-01],\n",
            "        [-1.7893e-01, -2.1456e-01, -1.2194e-01, -2.8339e-01, -3.5251e-01,\n",
            "         -1.9105e-01, -2.1220e-01, -1.8456e-01, -2.1375e-01, -2.0313e-01,\n",
            "         -2.5823e-01, -1.6427e-01, -8.7812e-02, -4.9322e-02, -1.0831e-01,\n",
            "         -1.6606e-01, -3.1613e-01, -4.2462e-01, -2.3268e-01, -2.1881e-01,\n",
            "         -1.7484e-01, -3.1581e-01, -3.1138e-01, -3.5185e-01, -2.4833e-01,\n",
            "         -2.2913e-01, -2.4676e-01, -1.9840e-01, -1.7560e-01, -2.6325e-01],\n",
            "        [-1.8601e-01, -3.1213e-01, -3.0616e-01, -2.8945e-01, -2.5124e-01,\n",
            "         -1.5137e-01, -1.6414e-01, -2.2577e-01, -2.4295e-01, -2.0140e-01,\n",
            "         -2.2860e-01, -1.5218e-01, -2.2232e-01, -4.5679e-02, -9.1244e-02,\n",
            "         -1.6376e-01, -2.3876e-01, -3.9955e-01, -3.0470e-01, -1.6791e-01,\n",
            "         -1.4230e-01, -1.7008e-01, -1.7198e-01, -2.4122e-01, -3.0702e-01,\n",
            "         -3.5086e-01, -2.1940e-01, -2.0034e-01, -1.9704e-01, -2.9454e-01],\n",
            "        [-2.0925e-01, -2.5411e-01, -3.6769e-01, -3.7109e-01, -3.0106e-01,\n",
            "         -2.7124e-01, -2.0650e-01, -2.2632e-01, -2.8852e-01, -2.8145e-01,\n",
            "         -2.4478e-01, -1.8980e-01, -3.6014e-01, -1.1053e-01, -1.1405e-01,\n",
            "         -1.1902e-01, -1.5892e-01, -2.9736e-01, -4.2336e-01, -2.9742e-01,\n",
            "         -1.6309e-01, -2.9770e-02, -1.0548e-01, -1.1437e-01, -2.5509e-01,\n",
            "         -2.6641e-01, -1.9395e-01, -1.8213e-01, -2.8405e-01, -2.7587e-01],\n",
            "        [-1.2945e-01, -1.2294e-01, -2.4240e-01, -4.0082e-01, -2.7612e-01,\n",
            "         -2.4695e-01, -1.8582e-01, -2.0780e-01, -2.4069e-01, -2.5970e-01,\n",
            "         -3.0276e-01, -2.4497e-01, -3.8160e-01, -1.2973e-01, -1.3443e-01,\n",
            "         -1.0533e-01, -1.2711e-01, -1.6082e-01, -2.5602e-01, -3.5712e-01,\n",
            "         -3.3232e-01, -1.8731e-01, -2.5763e-01, -1.8768e-01, -1.7738e-01,\n",
            "         -6.2607e-02, -1.4774e-01, -2.6032e-01, -2.7253e-01, -2.0904e-01],\n",
            "        [-9.4127e-02, -9.9849e-02, -5.2837e-02, -1.2823e-01, -1.5880e-01,\n",
            "         -1.5743e-01, -1.1996e-01, -1.9197e-01, -2.3404e-01, -2.1186e-01,\n",
            "         -1.8882e-01, -2.5444e-01, -3.3287e-01, -5.1629e-02, -1.2444e-01,\n",
            "         -1.1817e-01, -1.1962e-01, -1.0789e-01, -1.5839e-01, -2.2883e-01,\n",
            "         -3.4682e-01, -2.5305e-01, -3.0967e-01, -3.3937e-01, -1.3972e-01,\n",
            "         -6.7544e-02, -1.3804e-01, -2.2398e-01, -1.4708e-01, -1.9024e-01],\n",
            "        [-1.0912e-01, -1.3584e-01, -1.6598e-01, -1.3373e-01, -1.6521e-01,\n",
            "         -1.0450e-01, -1.2236e-01, -1.2758e-01, -1.2971e-01, -1.5255e-01,\n",
            "         -1.1360e-01, -1.5655e-01, -2.4038e-01, -2.7766e-02, -4.2912e-02,\n",
            "         -1.1900e-01, -1.2153e-01, -1.4050e-01, -1.5145e-01, -2.2597e-01,\n",
            "         -3.1500e-01, -3.0236e-01, -3.2489e-01, -3.0016e-01, -1.7862e-01,\n",
            "         -2.2797e-01, -1.9571e-01, -1.7285e-01, -1.7946e-01, -1.2328e-01],\n",
            "        [-2.4303e-01, -1.8449e-01, -2.3368e-01, -2.8176e-01, -2.6494e-01,\n",
            "         -2.1888e-01, -1.5030e-01, -1.4009e-01, -1.1050e-01, -2.1164e-01,\n",
            "         -1.5988e-01, -1.4103e-01, -2.4590e-01, -1.3472e-01,  2.5443e-02,\n",
            "         -1.1570e-02, -4.4657e-02, -1.2848e-01, -1.6137e-01, -2.1367e-01,\n",
            "         -2.5805e-01, -2.4722e-01, -2.0742e-01, -1.5012e-01, -2.3378e-01,\n",
            "         -1.8695e-01, -2.5492e-01, -1.6940e-01, -1.9295e-01, -2.0253e-01],\n",
            "        [-1.9960e-01, -2.0987e-01, -1.4940e-01, -1.7001e-01, -2.2643e-01,\n",
            "         -2.8479e-01, -3.1599e-01, -2.9554e-01, -3.5048e-01, -4.3619e-01,\n",
            "         -4.0890e-01, -3.1366e-01, -2.2362e-01, -2.0102e-01, -9.9234e-02,\n",
            "         -3.1596e-02,  2.0286e-03, -3.0877e-02, -1.1029e-01, -1.4705e-01,\n",
            "         -2.0026e-01, -2.5104e-01, -3.0895e-01, -2.6428e-01, -1.6431e-01,\n",
            "         -1.0510e-01, -1.5930e-01, -1.6532e-01, -8.4330e-02, -1.6506e-01],\n",
            "        [-9.5879e-02, -1.1542e-01, -1.2435e-01, -8.7259e-02, -8.2296e-02,\n",
            "         -7.4397e-02, -1.4907e-01, -1.0550e-01, -1.0579e-01, -1.5098e-01,\n",
            "         -1.4585e-01, -1.6779e-01, -1.7818e-01, -1.8789e-01, -1.8852e-01,\n",
            "         -1.0559e-01,  5.5540e-03,  5.7710e-02,  4.0753e-02, -6.7710e-03,\n",
            "         -1.0571e-01, -1.9713e-01, -3.5150e-01, -3.9884e-01, -2.8558e-01,\n",
            "         -1.1094e-01, -1.5999e-01, -2.0371e-01, -1.8114e-01, -1.6181e-01],\n",
            "        [-1.5328e-01, -7.9215e-02, -1.2164e-01, -6.0275e-02, -8.1506e-02,\n",
            "         -1.4809e-01, -2.8505e-01, -2.6594e-01,  7.0713e-03, -3.0879e-03,\n",
            "         -3.4342e-02, -2.9357e-02, -1.3433e-01, -1.8029e-01, -1.9639e-01,\n",
            "         -1.6547e-01, -8.0104e-02,  1.9826e-04,  2.4223e-02,  4.4591e-02,\n",
            "          3.6156e-02, -1.9605e-02, -1.5634e-01, -2.3567e-01, -1.7958e-01,\n",
            "         -1.4265e-01, -2.3406e-01, -2.2831e-01, -2.2440e-01, -2.1003e-01],\n",
            "        [-1.7059e-01, -1.4375e-01, -1.0523e-01, -1.9260e-01, -2.0536e-01,\n",
            "         -1.2774e-01, -2.4531e-01, -3.0600e-01, -2.8475e-01, -1.9357e-01,\n",
            "         -2.9339e-01, -2.2015e-01, -2.9159e-01, -3.3932e-01, -2.6413e-01,\n",
            "         -3.1154e-01, -2.6324e-01, -2.1260e-01, -2.1150e-01, -1.8917e-01,\n",
            "         -1.1702e-01, -3.0952e-02, -2.4781e-02, -8.0012e-02, -9.2942e-02,\n",
            "         -1.1531e-01, -2.4122e-01, -2.0216e-01, -1.4269e-01, -1.5275e-01],\n",
            "        [-2.2774e-01, -2.8813e-01, -1.2296e-01, -2.0925e-01, -3.2324e-01,\n",
            "         -2.1688e-01, -1.1107e-01, -1.2163e-01, -2.0970e-01, -3.5103e-01,\n",
            "         -3.1021e-01, -2.2402e-01, -2.7932e-01, -2.5717e-01, -2.8772e-01,\n",
            "         -2.1734e-01, -2.5044e-01, -2.6402e-01, -2.8497e-01, -3.1853e-01,\n",
            "         -3.1680e-01, -2.2449e-01, -1.7698e-01, -1.4997e-01, -1.4632e-01,\n",
            "         -1.2095e-01, -1.6422e-01, -1.7674e-01, -1.3382e-01, -1.4198e-01],\n",
            "        [-2.1130e-01, -3.5738e-01, -2.0747e-01, -1.0616e-01, -2.1445e-01,\n",
            "         -1.8137e-01, -2.5323e-01, -2.1996e-01, -1.4767e-01, -2.1096e-01,\n",
            "         -2.2400e-01, -1.9978e-01, -2.1280e-01, -2.2198e-01, -2.0232e-01,\n",
            "         -1.9223e-01, -2.4474e-01, -2.4680e-01, -2.7818e-01, -1.9774e-01,\n",
            "         -1.4527e-01, -1.7148e-01, -1.5107e-01, -1.1341e-01, -1.3784e-01,\n",
            "         -2.4944e-01, -1.8813e-01, -1.7444e-01, -1.5950e-01, -2.7243e-01],\n",
            "        [-1.1282e-01, -1.7976e-01, -2.1916e-01, -2.4186e-01, -2.3272e-01,\n",
            "         -1.6645e-01, -1.8348e-01, -3.0111e-01, -2.2270e-01, -1.8193e-01,\n",
            "         -1.7512e-01, -1.6286e-01, -2.5021e-01, -3.0727e-01, -3.1864e-01,\n",
            "         -2.8576e-01, -3.0461e-01, -2.3746e-01, -2.5218e-01, -1.2771e-01,\n",
            "         -8.4070e-02, -5.0591e-02, -9.0132e-02, -5.2216e-02, -9.6185e-02,\n",
            "         -1.3940e-01, -2.5458e-01, -1.5436e-01, -1.6604e-01, -2.2299e-01],\n",
            "        [-1.1206e-01, -1.3719e-01, -5.0349e-02, -2.0310e-01, -2.6826e-01,\n",
            "         -2.0629e-01, -1.8853e-01, -2.1027e-01, -1.7973e-01, -1.7595e-01,\n",
            "         -2.2210e-01, -1.7050e-01, -1.5253e-01, -1.5536e-01, -9.0205e-02,\n",
            "         -7.0835e-02, -1.2753e-01, -8.2116e-02, -1.4107e-01, -1.3626e-01,\n",
            "         -2.2045e-01, -2.0059e-01, -1.8608e-01, -9.9781e-02, -1.3116e-01,\n",
            "          5.4039e-03, -1.1586e-01, -1.7965e-01, -1.5833e-01, -7.1800e-02],\n",
            "        [-1.8297e-01, -2.0136e-01, -1.3035e-01, -9.7370e-02, -1.7152e-01,\n",
            "         -1.9335e-01, -1.7380e-01, -1.9643e-01, -1.9208e-01, -1.4328e-01,\n",
            "         -1.8571e-01, -1.6141e-01, -1.0264e-01, -9.0709e-02, -3.3436e-02,\n",
            "         -2.6671e-02, -5.0254e-02, -1.1284e-01, -4.9204e-02, -5.8035e-02,\n",
            "         -1.5753e-01, -2.0940e-01, -1.7542e-01, -1.9107e-01, -2.8754e-01,\n",
            "         -1.2197e-01, -1.0350e-01, -2.4162e-01, -3.1712e-01, -2.3859e-01],\n",
            "        [-1.9904e-01, -1.5937e-01, -1.8650e-01, -1.3235e-01, -1.5992e-01,\n",
            "         -1.5371e-01, -1.5728e-01, -2.2039e-01, -2.2909e-01, -2.0818e-01,\n",
            "         -2.2360e-01, -1.3880e-01, -1.4765e-01, -1.3527e-01, -1.6303e-01,\n",
            "         -1.7422e-01, -1.7896e-01, -6.4531e-02, -9.7413e-02, -1.0904e-02,\n",
            "          7.8456e-03, -9.7473e-02, -1.0275e-01, -1.9306e-01, -2.3904e-01,\n",
            "         -2.0700e-01, -1.8677e-01, -2.2326e-01, -3.3901e-01, -3.4190e-01],\n",
            "        [-1.5126e-01, -1.6792e-01, -1.6806e-01, -1.5691e-01, -1.3981e-01,\n",
            "         -1.2459e-01, -1.1233e-01, -1.4088e-01, -1.6280e-01, -1.5311e-01,\n",
            "         -1.5288e-01, -1.5673e-01, -2.1936e-01, -1.7922e-01, -1.4583e-01,\n",
            "         -1.7830e-01, -2.1669e-01, -1.2272e-01, -9.7826e-02, -1.1476e-01,\n",
            "         -1.0185e-01, -3.9787e-02,  1.1801e-01,  9.3964e-02,  6.3691e-02,\n",
            "          2.4677e-02,  2.8139e-02,  3.7009e-02,  2.3936e-02,  2.5210e-03],\n",
            "        [-1.3863e-01, -1.4841e-01, -1.1535e-01, -1.5748e-01, -1.1176e-01,\n",
            "         -1.1845e-01, -9.7462e-02, -1.1719e-01, -8.9620e-02, -8.4025e-02,\n",
            "         -3.6915e-02, -1.0959e-01, -1.4527e-01, -2.3957e-01, -2.4606e-01,\n",
            "         -1.9251e-01, -2.5986e-01, -2.5800e-01, -1.7657e-01, -2.6107e-01,\n",
            "         -2.7525e-01, -2.8241e-01, -2.5321e-01, -2.0329e-01, -2.2359e-01,\n",
            "         -2.2380e-01, -2.4455e-01, -1.3288e-01, -1.1511e-01, -1.2691e-01],\n",
            "        [-1.5397e-01, -1.7281e-01, -1.8160e-01, -2.2026e-01, -1.8476e-01,\n",
            "         -1.2394e-01, -1.4250e-01, -1.8827e-01, -1.8542e-01, -1.6319e-01,\n",
            "         -1.7931e-01, -2.6491e-01, -1.1258e-01, -1.8046e-01, -1.9866e-01,\n",
            "         -2.0268e-01, -2.3783e-01, -2.7439e-01, -2.7426e-01, -2.9020e-01,\n",
            "         -3.0263e-01, -2.6523e-01, -3.1293e-01, -3.3603e-01, -2.9751e-01,\n",
            "         -2.5959e-01, -2.9022e-01, -2.9350e-01, -2.9824e-01, -4.1364e-01],\n",
            "        [-1.2148e-01, -1.4456e-01, -1.3994e-01, -1.5645e-01, -1.7359e-01,\n",
            "         -1.3623e-01, -9.5561e-02, -1.1680e-01, -1.3023e-01, -1.3256e-01,\n",
            "         -2.1279e-01, -3.3924e-01, -2.0963e-01, -1.2915e-01, -1.1642e-01,\n",
            "         -1.8083e-01, -1.6587e-01, -2.0939e-01, -1.2411e-01, -1.0715e-01,\n",
            "         -2.0594e-01, -1.8253e-01, -1.8811e-01, -2.2522e-01, -2.2301e-01,\n",
            "         -2.0837e-01, -1.9102e-01, -2.5353e-01, -1.8407e-01, -2.9162e-01]],\n",
            "       grad_fn=<SliceBackward>)\n"
          ],
          "name": "stdout"
        }
      ]
    },
    {
      "cell_type": "code",
      "metadata": {
        "id": "O6kz8DGc9oPd",
        "colab_type": "code",
        "colab": {
          "base_uri": "https://localhost:8080/",
          "height": 1000
        },
        "outputId": "d099e3db-8943-4376-a712-f7f4d63e81b4"
      },
      "source": [
        "print(out[0, 0, :, :].detach())"
      ],
      "execution_count": 24,
      "outputs": [
        {
          "output_type": "stream",
          "text": [
            "tensor([[-2.5496e-01, -1.6950e-01, -9.2860e-02, -1.1992e-01, -8.3360e-02,\n",
            "         -2.6062e-01, -2.3516e-01, -2.4524e-01, -2.1759e-01, -1.5514e-01,\n",
            "         -2.8908e-01, -3.0425e-01, -1.8199e-01, -1.4724e-01, -7.8352e-02,\n",
            "         -1.4662e-01, -1.8240e-01, -1.9482e-01, -2.4186e-01, -2.0396e-01,\n",
            "         -1.9972e-01, -2.3711e-01, -1.1268e-01, -1.3078e-01, -2.2931e-01,\n",
            "         -1.8023e-01, -3.1173e-01, -2.2405e-01, -2.0384e-01, -1.4991e-01],\n",
            "        [-2.3517e-01, -1.8037e-01, -1.3231e-01, -2.4087e-01, -6.9892e-02,\n",
            "         -1.6207e-01, -1.5912e-01, -3.1824e-01, -2.3610e-01, -2.2229e-01,\n",
            "         -2.8376e-01, -2.5200e-01, -1.9065e-01, -1.8787e-01, -2.3225e-01,\n",
            "         -3.2886e-01, -2.7302e-01, -2.4783e-01, -2.2489e-01, -1.5829e-01,\n",
            "         -1.9449e-01, -2.2676e-01, -1.5869e-01, -1.7668e-01, -2.4966e-01,\n",
            "         -1.5469e-01, -1.9415e-01, -1.7148e-01, -2.1413e-01, -1.6699e-01],\n",
            "        [-2.1945e-01, -1.3404e-01, -1.3966e-01, -2.5850e-01, -1.3983e-01,\n",
            "         -2.0037e-01, -9.2017e-02, -2.3200e-01, -1.0149e-01, -1.5472e-01,\n",
            "         -2.5117e-01, -2.6903e-01, -2.5028e-01, -2.1144e-01, -2.7461e-01,\n",
            "         -3.4770e-01, -3.6217e-01, -3.4562e-01, -2.4858e-01, -1.7405e-01,\n",
            "         -1.9173e-01, -1.9212e-01, -2.0448e-01, -1.9896e-01, -2.3041e-01,\n",
            "         -1.8719e-01, -1.8365e-01, -1.7216e-01, -2.9061e-01, -2.0759e-01],\n",
            "        [-1.6927e-01, -1.1891e-01, -1.8543e-01, -2.4212e-01, -2.4418e-01,\n",
            "         -2.3060e-01, -1.7076e-01, -2.5574e-01, -2.1259e-01, -2.5560e-01,\n",
            "         -1.9889e-01, -2.8805e-01, -2.7628e-01, -1.7908e-01, -1.4328e-01,\n",
            "         -1.0791e-01, -1.7462e-01, -2.6652e-01, -2.5528e-01, -2.2717e-01,\n",
            "         -2.5146e-01, -2.0851e-01, -1.7129e-01, -2.2255e-01, -2.5355e-01,\n",
            "         -2.2422e-01, -1.7274e-01, -2.0372e-01, -3.0665e-01, -2.0499e-01],\n",
            "        [-1.8357e-01, -1.2389e-01, -2.0702e-01, -2.4533e-01, -2.8841e-01,\n",
            "         -2.0730e-01, -1.8537e-01, -1.9461e-01, -2.7567e-01, -3.0118e-01,\n",
            "         -2.8891e-01, -2.0959e-01, -2.9742e-01, -3.3484e-01, -2.5316e-01,\n",
            "         -1.3409e-01, -1.3727e-01, -2.1235e-01, -2.6662e-01, -2.6137e-01,\n",
            "         -3.0246e-01, -2.7930e-01, -1.5637e-01, -1.6300e-01, -2.9098e-01,\n",
            "         -2.6763e-01, -2.3309e-01, -1.9530e-01, -2.3248e-01, -1.2678e-01],\n",
            "        [-1.4429e-01, -1.7106e-01, -1.9974e-01, -1.6020e-01, -2.5700e-01,\n",
            "         -1.5627e-01, -1.8475e-01, -1.8573e-01, -2.4756e-01, -2.5034e-01,\n",
            "         -2.8702e-01, -3.2360e-01, -3.8455e-01, -3.2451e-01, -4.3351e-01,\n",
            "         -3.6635e-01, -1.8223e-01, -2.0031e-01, -2.4460e-01, -2.5349e-01,\n",
            "         -2.4947e-01, -2.9305e-01, -2.3468e-01, -1.7665e-01, -2.2079e-01,\n",
            "         -2.2965e-01, -1.9037e-01, -2.5116e-01, -2.0470e-01, -2.0705e-01],\n",
            "        [-1.5807e-01, -2.4764e-01, -2.5356e-01, -1.8020e-01, -2.3086e-01,\n",
            "         -1.4082e-01, -1.9524e-01, -2.5146e-01, -2.0790e-01, -2.8808e-01,\n",
            "         -3.0371e-01, -2.9663e-01, -4.3611e-01, -3.3764e-01, -2.7553e-01,\n",
            "         -3.8582e-01, -2.9437e-01, -1.8023e-01, -1.7023e-01, -1.8754e-01,\n",
            "         -1.5739e-01, -2.7061e-01, -2.5985e-01, -1.9739e-01, -2.3138e-01,\n",
            "         -1.8869e-01, -2.1957e-01, -2.0651e-01, -1.7524e-01, -2.9084e-01],\n",
            "        [-2.8571e-01, -2.8980e-01, -1.8694e-01, -2.6244e-01, -2.3637e-01,\n",
            "         -1.2057e-01, -9.2035e-02, -1.7966e-01, -1.5453e-01, -1.7772e-01,\n",
            "         -2.2739e-01, -9.0174e-02, -7.6988e-02, -1.1599e-01, -1.6313e-01,\n",
            "         -1.9556e-01, -2.9486e-01, -2.5321e-01, -1.8499e-01, -1.7909e-01,\n",
            "         -1.7420e-01, -2.5241e-01, -2.1916e-01, -2.6101e-01, -1.6153e-01,\n",
            "         -2.1660e-01, -2.6570e-01, -1.4878e-01, -2.0753e-01, -1.4857e-01],\n",
            "        [-2.6025e-01, -3.2718e-01, -2.0786e-01, -2.5578e-01, -2.5064e-01,\n",
            "         -1.2964e-01, -1.1294e-01, -2.0939e-01, -2.3947e-01, -1.7335e-01,\n",
            "         -1.8523e-01, -3.4782e-02,  4.5231e-02, -2.5916e-02, -1.0052e-01,\n",
            "         -1.5344e-01, -3.0999e-01, -3.7394e-01, -2.3542e-01, -2.1188e-01,\n",
            "         -2.2780e-01, -2.0775e-01, -2.4856e-01, -2.2703e-01, -1.5805e-01,\n",
            "         -2.1970e-01, -2.4592e-01, -9.1968e-02, -1.6110e-01, -1.2927e-01],\n",
            "        [-1.7893e-01, -2.1456e-01, -1.2194e-01, -2.8339e-01, -3.5251e-01,\n",
            "         -1.9105e-01, -2.1220e-01, -1.8456e-01, -2.1375e-01, -2.0313e-01,\n",
            "         -2.5823e-01, -1.6427e-01, -8.7812e-02, -4.9322e-02, -1.0831e-01,\n",
            "         -1.6606e-01, -3.1613e-01, -4.2462e-01, -2.3268e-01, -2.1881e-01,\n",
            "         -1.7484e-01, -3.1581e-01, -3.1138e-01, -3.5185e-01, -2.4833e-01,\n",
            "         -2.2913e-01, -2.4676e-01, -1.9840e-01, -1.7560e-01, -2.6325e-01],\n",
            "        [-1.8601e-01, -3.1213e-01, -3.0616e-01, -2.8945e-01, -2.5124e-01,\n",
            "         -1.5137e-01, -1.6414e-01, -2.2577e-01, -2.4295e-01, -2.0140e-01,\n",
            "         -2.2860e-01, -1.5218e-01, -2.2232e-01, -4.5679e-02, -9.1244e-02,\n",
            "         -1.6376e-01, -2.3876e-01, -3.9955e-01, -3.0470e-01, -1.6791e-01,\n",
            "         -1.4230e-01, -1.7008e-01, -1.7198e-01, -2.4122e-01, -3.0702e-01,\n",
            "         -3.5086e-01, -2.1940e-01, -2.0034e-01, -1.9704e-01, -2.9454e-01],\n",
            "        [-2.0925e-01, -2.5411e-01, -3.6769e-01, -3.7109e-01, -3.0106e-01,\n",
            "         -2.7124e-01, -2.0650e-01, -2.2632e-01, -2.8852e-01, -2.8145e-01,\n",
            "         -2.4478e-01, -1.8980e-01, -3.6014e-01, -1.1053e-01, -1.1405e-01,\n",
            "         -1.1902e-01, -1.5892e-01, -2.9736e-01, -4.2336e-01, -2.9742e-01,\n",
            "         -1.6309e-01, -2.9770e-02, -1.0548e-01, -1.1437e-01, -2.5509e-01,\n",
            "         -2.6641e-01, -1.9395e-01, -1.8213e-01, -2.8405e-01, -2.7587e-01],\n",
            "        [-1.2945e-01, -1.2294e-01, -2.4240e-01, -4.0082e-01, -2.7612e-01,\n",
            "         -2.4695e-01, -1.8582e-01, -2.0780e-01, -2.4069e-01, -2.5970e-01,\n",
            "         -3.0276e-01, -2.4497e-01, -3.8160e-01, -1.2973e-01, -1.3443e-01,\n",
            "         -1.0533e-01, -1.2711e-01, -1.6082e-01, -2.5602e-01, -3.5712e-01,\n",
            "         -3.3232e-01, -1.8731e-01, -2.5763e-01, -1.8768e-01, -1.7738e-01,\n",
            "         -6.2607e-02, -1.4774e-01, -2.6032e-01, -2.7253e-01, -2.0904e-01],\n",
            "        [-9.4127e-02, -9.9849e-02, -5.2837e-02, -1.2823e-01, -1.5880e-01,\n",
            "         -1.5743e-01, -1.1996e-01, -1.9197e-01, -2.3404e-01, -2.1186e-01,\n",
            "         -1.8882e-01, -2.5444e-01, -3.3287e-01, -5.1629e-02, -1.2444e-01,\n",
            "         -1.1817e-01, -1.1962e-01, -1.0789e-01, -1.5839e-01, -2.2883e-01,\n",
            "         -3.4682e-01, -2.5305e-01, -3.0967e-01, -3.3937e-01, -1.3972e-01,\n",
            "         -6.7544e-02, -1.3804e-01, -2.2398e-01, -1.4708e-01, -1.9024e-01],\n",
            "        [-1.0912e-01, -1.3584e-01, -1.6598e-01, -1.3373e-01, -1.6521e-01,\n",
            "         -1.0450e-01, -1.2236e-01, -1.2758e-01, -1.2971e-01, -1.5255e-01,\n",
            "         -1.1360e-01, -1.5655e-01, -2.4038e-01, -2.7766e-02, -4.2912e-02,\n",
            "         -1.1900e-01, -1.2153e-01, -1.4050e-01, -1.5145e-01, -2.2597e-01,\n",
            "         -3.1500e-01, -3.0236e-01, -3.2489e-01, -3.0016e-01, -1.7862e-01,\n",
            "         -2.2797e-01, -1.9571e-01, -1.7285e-01, -1.7946e-01, -1.2328e-01],\n",
            "        [-2.4303e-01, -1.8449e-01, -2.3368e-01, -2.8176e-01, -2.6494e-01,\n",
            "         -2.1888e-01, -1.5030e-01, -1.4009e-01, -1.1050e-01, -2.1164e-01,\n",
            "         -1.5988e-01, -1.4103e-01, -2.4590e-01, -1.3472e-01,  2.5443e-02,\n",
            "         -1.1570e-02, -4.4657e-02, -1.2848e-01, -1.6137e-01, -2.1367e-01,\n",
            "         -2.5805e-01, -2.4722e-01, -2.0742e-01, -1.5012e-01, -2.3378e-01,\n",
            "         -1.8695e-01, -2.5492e-01, -1.6940e-01, -1.9295e-01, -2.0253e-01],\n",
            "        [-1.9960e-01, -2.0987e-01, -1.4940e-01, -1.7001e-01, -2.2643e-01,\n",
            "         -2.8479e-01, -3.1599e-01, -2.9554e-01, -3.5048e-01, -4.3619e-01,\n",
            "         -4.0890e-01, -3.1366e-01, -2.2362e-01, -2.0102e-01, -9.9234e-02,\n",
            "         -3.1596e-02,  2.0286e-03, -3.0877e-02, -1.1029e-01, -1.4705e-01,\n",
            "         -2.0026e-01, -2.5104e-01, -3.0895e-01, -2.6428e-01, -1.6431e-01,\n",
            "         -1.0510e-01, -1.5930e-01, -1.6532e-01, -8.4330e-02, -1.6506e-01],\n",
            "        [-9.5879e-02, -1.1542e-01, -1.2435e-01, -8.7259e-02, -8.2296e-02,\n",
            "         -7.4397e-02, -1.4907e-01, -1.0550e-01, -1.0579e-01, -1.5098e-01,\n",
            "         -1.4585e-01, -1.6779e-01, -1.7818e-01, -1.8789e-01, -1.8852e-01,\n",
            "         -1.0559e-01,  5.5540e-03,  5.7710e-02,  4.0753e-02, -6.7710e-03,\n",
            "         -1.0571e-01, -1.9713e-01, -3.5150e-01, -3.9884e-01, -2.8558e-01,\n",
            "         -1.1094e-01, -1.5999e-01, -2.0371e-01, -1.8114e-01, -1.6181e-01],\n",
            "        [-1.5328e-01, -7.9215e-02, -1.2164e-01, -6.0275e-02, -8.1506e-02,\n",
            "         -1.4809e-01, -2.8505e-01, -2.6594e-01,  7.0713e-03, -3.0879e-03,\n",
            "         -3.4342e-02, -2.9357e-02, -1.3433e-01, -1.8029e-01, -1.9639e-01,\n",
            "         -1.6547e-01, -8.0104e-02,  1.9826e-04,  2.4223e-02,  4.4591e-02,\n",
            "          3.6156e-02, -1.9605e-02, -1.5634e-01, -2.3567e-01, -1.7958e-01,\n",
            "         -1.4265e-01, -2.3406e-01, -2.2831e-01, -2.2440e-01, -2.1003e-01],\n",
            "        [-1.7059e-01, -1.4375e-01, -1.0523e-01, -1.9260e-01, -2.0536e-01,\n",
            "         -1.2774e-01, -2.4531e-01, -3.0600e-01, -2.8475e-01, -1.9357e-01,\n",
            "         -2.9339e-01, -2.2015e-01, -2.9159e-01, -3.3932e-01, -2.6413e-01,\n",
            "         -3.1154e-01, -2.6324e-01, -2.1260e-01, -2.1150e-01, -1.8917e-01,\n",
            "         -1.1702e-01, -3.0952e-02, -2.4781e-02, -8.0012e-02, -9.2942e-02,\n",
            "         -1.1531e-01, -2.4122e-01, -2.0216e-01, -1.4269e-01, -1.5275e-01],\n",
            "        [-2.2774e-01, -2.8813e-01, -1.2296e-01, -2.0925e-01, -3.2324e-01,\n",
            "         -2.1688e-01, -1.1107e-01, -1.2163e-01, -2.0970e-01, -3.5103e-01,\n",
            "         -3.1021e-01, -2.2402e-01, -2.7932e-01, -2.5717e-01, -2.8772e-01,\n",
            "         -2.1734e-01, -2.5044e-01, -2.6402e-01, -2.8497e-01, -3.1853e-01,\n",
            "         -3.1680e-01, -2.2449e-01, -1.7698e-01, -1.4997e-01, -1.4632e-01,\n",
            "         -1.2095e-01, -1.6422e-01, -1.7674e-01, -1.3382e-01, -1.4198e-01],\n",
            "        [-2.1130e-01, -3.5738e-01, -2.0747e-01, -1.0616e-01, -2.1445e-01,\n",
            "         -1.8137e-01, -2.5323e-01, -2.1996e-01, -1.4767e-01, -2.1096e-01,\n",
            "         -2.2400e-01, -1.9978e-01, -2.1280e-01, -2.2198e-01, -2.0232e-01,\n",
            "         -1.9223e-01, -2.4474e-01, -2.4680e-01, -2.7818e-01, -1.9774e-01,\n",
            "         -1.4527e-01, -1.7148e-01, -1.5107e-01, -1.1341e-01, -1.3784e-01,\n",
            "         -2.4944e-01, -1.8813e-01, -1.7444e-01, -1.5950e-01, -2.7243e-01],\n",
            "        [-1.1282e-01, -1.7976e-01, -2.1916e-01, -2.4186e-01, -2.3272e-01,\n",
            "         -1.6645e-01, -1.8348e-01, -3.0111e-01, -2.2270e-01, -1.8193e-01,\n",
            "         -1.7512e-01, -1.6286e-01, -2.5021e-01, -3.0727e-01, -3.1864e-01,\n",
            "         -2.8576e-01, -3.0461e-01, -2.3746e-01, -2.5218e-01, -1.2771e-01,\n",
            "         -8.4070e-02, -5.0591e-02, -9.0132e-02, -5.2216e-02, -9.6185e-02,\n",
            "         -1.3940e-01, -2.5458e-01, -1.5436e-01, -1.6604e-01, -2.2299e-01],\n",
            "        [-1.1206e-01, -1.3719e-01, -5.0349e-02, -2.0310e-01, -2.6826e-01,\n",
            "         -2.0629e-01, -1.8853e-01, -2.1027e-01, -1.7973e-01, -1.7595e-01,\n",
            "         -2.2210e-01, -1.7050e-01, -1.5253e-01, -1.5536e-01, -9.0205e-02,\n",
            "         -7.0835e-02, -1.2753e-01, -8.2116e-02, -1.4107e-01, -1.3626e-01,\n",
            "         -2.2045e-01, -2.0059e-01, -1.8608e-01, -9.9781e-02, -1.3116e-01,\n",
            "          5.4039e-03, -1.1586e-01, -1.7965e-01, -1.5833e-01, -7.1800e-02],\n",
            "        [-1.8297e-01, -2.0136e-01, -1.3035e-01, -9.7370e-02, -1.7152e-01,\n",
            "         -1.9335e-01, -1.7380e-01, -1.9643e-01, -1.9208e-01, -1.4328e-01,\n",
            "         -1.8571e-01, -1.6141e-01, -1.0264e-01, -9.0709e-02, -3.3436e-02,\n",
            "         -2.6671e-02, -5.0254e-02, -1.1284e-01, -4.9204e-02, -5.8035e-02,\n",
            "         -1.5753e-01, -2.0940e-01, -1.7542e-01, -1.9107e-01, -2.8754e-01,\n",
            "         -1.2197e-01, -1.0350e-01, -2.4162e-01, -3.1712e-01, -2.3859e-01],\n",
            "        [-1.9904e-01, -1.5937e-01, -1.8650e-01, -1.3235e-01, -1.5992e-01,\n",
            "         -1.5371e-01, -1.5728e-01, -2.2039e-01, -2.2909e-01, -2.0818e-01,\n",
            "         -2.2360e-01, -1.3880e-01, -1.4765e-01, -1.3527e-01, -1.6303e-01,\n",
            "         -1.7422e-01, -1.7896e-01, -6.4531e-02, -9.7413e-02, -1.0904e-02,\n",
            "          7.8456e-03, -9.7473e-02, -1.0275e-01, -1.9306e-01, -2.3904e-01,\n",
            "         -2.0700e-01, -1.8677e-01, -2.2326e-01, -3.3901e-01, -3.4190e-01],\n",
            "        [-1.5126e-01, -1.6792e-01, -1.6806e-01, -1.5691e-01, -1.3981e-01,\n",
            "         -1.2459e-01, -1.1233e-01, -1.4088e-01, -1.6280e-01, -1.5311e-01,\n",
            "         -1.5288e-01, -1.5673e-01, -2.1936e-01, -1.7922e-01, -1.4583e-01,\n",
            "         -1.7830e-01, -2.1669e-01, -1.2272e-01, -9.7826e-02, -1.1476e-01,\n",
            "         -1.0185e-01, -3.9787e-02,  1.1801e-01,  9.3964e-02,  6.3691e-02,\n",
            "          2.4677e-02,  2.8139e-02,  3.7009e-02,  2.3936e-02,  2.5210e-03],\n",
            "        [-1.3863e-01, -1.4841e-01, -1.1535e-01, -1.5748e-01, -1.1176e-01,\n",
            "         -1.1845e-01, -9.7462e-02, -1.1719e-01, -8.9620e-02, -8.4025e-02,\n",
            "         -3.6915e-02, -1.0959e-01, -1.4527e-01, -2.3957e-01, -2.4606e-01,\n",
            "         -1.9251e-01, -2.5986e-01, -2.5800e-01, -1.7657e-01, -2.6107e-01,\n",
            "         -2.7525e-01, -2.8241e-01, -2.5321e-01, -2.0329e-01, -2.2359e-01,\n",
            "         -2.2380e-01, -2.4455e-01, -1.3288e-01, -1.1511e-01, -1.2691e-01],\n",
            "        [-1.5397e-01, -1.7281e-01, -1.8160e-01, -2.2026e-01, -1.8476e-01,\n",
            "         -1.2394e-01, -1.4250e-01, -1.8827e-01, -1.8542e-01, -1.6319e-01,\n",
            "         -1.7931e-01, -2.6491e-01, -1.1258e-01, -1.8046e-01, -1.9866e-01,\n",
            "         -2.0268e-01, -2.3783e-01, -2.7439e-01, -2.7426e-01, -2.9020e-01,\n",
            "         -3.0263e-01, -2.6523e-01, -3.1293e-01, -3.3603e-01, -2.9751e-01,\n",
            "         -2.5959e-01, -2.9022e-01, -2.9350e-01, -2.9824e-01, -4.1364e-01],\n",
            "        [-1.2148e-01, -1.4456e-01, -1.3994e-01, -1.5645e-01, -1.7359e-01,\n",
            "         -1.3623e-01, -9.5561e-02, -1.1680e-01, -1.3023e-01, -1.3256e-01,\n",
            "         -2.1279e-01, -3.3924e-01, -2.0963e-01, -1.2915e-01, -1.1642e-01,\n",
            "         -1.8083e-01, -1.6587e-01, -2.0939e-01, -1.2411e-01, -1.0715e-01,\n",
            "         -2.0594e-01, -1.8253e-01, -1.8811e-01, -2.2522e-01, -2.2301e-01,\n",
            "         -2.0837e-01, -1.9102e-01, -2.5353e-01, -1.8407e-01, -2.9162e-01]])\n"
          ],
          "name": "stdout"
        }
      ]
    },
    {
      "cell_type": "code",
      "metadata": {
        "id": "FWsbiGPH_Syq",
        "colab_type": "code",
        "colab": {
          "base_uri": "https://localhost:8080/",
          "height": 266
        },
        "outputId": "c41dec2f-5920-4d52-d2fd-537695ae2b16"
      },
      "source": [
        "!pip install torchviz "
      ],
      "execution_count": 27,
      "outputs": [
        {
          "output_type": "stream",
          "text": [
            "Collecting torchviz\n",
            "\u001b[?25l  Downloading https://files.pythonhosted.org/packages/8f/8e/a9630c7786b846d08b47714dd363a051f5e37b4ea0e534460d8cdfc1644b/torchviz-0.0.1.tar.gz (41kB)\n",
            "\r\u001b[K     |████████                        | 10kB 21.1MB/s eta 0:00:01\r\u001b[K     |████████████████                | 20kB 1.8MB/s eta 0:00:01\r\u001b[K     |███████████████████████▉        | 30kB 2.4MB/s eta 0:00:01\r\u001b[K     |███████████████████████████████▉| 40kB 3.1MB/s eta 0:00:01\r\u001b[K     |████████████████████████████████| 51kB 2.7MB/s \n",
            "\u001b[?25hRequirement already satisfied: torch in /usr/local/lib/python3.6/dist-packages (from torchviz) (1.5.0+cu101)\n",
            "Requirement already satisfied: graphviz in /usr/local/lib/python3.6/dist-packages (from torchviz) (0.10.1)\n",
            "Requirement already satisfied: numpy in /usr/local/lib/python3.6/dist-packages (from torch->torchviz) (1.18.3)\n",
            "Requirement already satisfied: future in /usr/local/lib/python3.6/dist-packages (from torch->torchviz) (0.16.0)\n",
            "Building wheels for collected packages: torchviz\n",
            "  Building wheel for torchviz (setup.py) ... \u001b[?25l\u001b[?25hdone\n",
            "  Created wheel for torchviz: filename=torchviz-0.0.1-cp36-none-any.whl size=3523 sha256=2fd574ef6f6923ac13dd1142ecd2c2c36a547300dde7bb6798ecd41fd85ee168\n",
            "  Stored in directory: /root/.cache/pip/wheels/2a/c2/c5/b8b4d0f7992c735f6db5bfa3c5f354cf36502037ca2b585667\n",
            "Successfully built torchviz\n",
            "Installing collected packages: torchviz\n",
            "Successfully installed torchviz-0.0.1\n"
          ],
          "name": "stdout"
        }
      ]
    },
    {
      "cell_type": "code",
      "metadata": {
        "id": "zTICJuvO-ZrZ",
        "colab_type": "code",
        "colab": {
          "base_uri": "https://localhost:8080/",
          "height": 302
        },
        "outputId": "df29b1be-da86-42c6-f027-3231c339a632"
      },
      "source": [
        "# Explaining the usage of detach\n",
        "from torchviz import make_dot\n",
        "x=torch.ones(10, requires_grad=True)\n",
        "\n",
        "y=x**2\n",
        "z=x**3\n",
        "r=(y+z).sum()\n",
        "make_dot(r).render(\"attached\", format=\"png\")\n",
        "\n",
        "from IPython.display import Image\n",
        "Image('attached.png')\n",
        "\n"
      ],
      "execution_count": 28,
      "outputs": [
        {
          "output_type": "execute_result",
          "data": {
            "image/png": "[encoded data removed]",
            "text/plain": [
              "<IPython.core.display.Image object>"
            ]
          },
          "metadata": {
            "tags": []
          },
          "execution_count": 28
        }
      ]
    },
    {
      "cell_type": "code",
      "metadata": {
        "id": "5O5QHus1AX4q",
        "colab_type": "code",
        "colab": {
          "base_uri": "https://localhost:8080/",
          "height": 35
        },
        "outputId": "abd04cfe-de29-44c5-b27c-02093f8c3514"
      },
      "source": [
        "r.backward()\n",
        "x.grad"
      ],
      "execution_count": 29,
      "outputs": [
        {
          "output_type": "execute_result",
          "data": {
            "text/plain": [
              "tensor([5., 5., 5., 5., 5., 5., 5., 5., 5., 5.])"
            ]
          },
          "metadata": {
            "tags": []
          },
          "execution_count": 29
        }
      ]
    },
    {
      "cell_type": "code",
      "metadata": {
        "id": "QufOEzOt_tEu",
        "colab_type": "code",
        "colab": {
          "base_uri": "https://localhost:8080/",
          "height": 302
        },
        "outputId": "94c9f2dd-0033-409d-a486-90cfa290329a"
      },
      "source": [
        "y=x**2\n",
        "z=x.detach()**3\n",
        "r1=(y+z).sum()    \n",
        "make_dot(r).render(\"detached\", format=\"png\")\n",
        "\n",
        "from IPython.display import Image\n",
        "Image('detached.png')\n",
        "\n"
      ],
      "execution_count": 30,
      "outputs": [
        {
          "output_type": "execute_result",
          "data": {
            "image/png": "[encoded data removed]",
            "text/plain": [
              "<IPython.core.display.Image object>"
            ]
          },
          "metadata": {
            "tags": []
          },
          "execution_count": 30
        }
      ]
    },
    {
      "cell_type": "code",
      "metadata": {
        "id": "73v6jwhYAaiW",
        "colab_type": "code",
        "colab": {
          "base_uri": "https://localhost:8080/",
          "height": 35
        },
        "outputId": "a5764989-cf0f-4717-e984-b98f4865ccb7"
      },
      "source": [
        "x.grad.zero_()\n",
        "r1.backward()\n",
        "x.grad"
      ],
      "execution_count": 31,
      "outputs": [
        {
          "output_type": "execute_result",
          "data": {
            "text/plain": [
              "tensor([2., 2., 2., 2., 2., 2., 2., 2., 2., 2.])"
            ]
          },
          "metadata": {
            "tags": []
          },
          "execution_count": 31
        }
      ]
    },
    {
      "cell_type": "markdown",
      "metadata": {
        "id": "vgKOQ-pc_7-G",
        "colab_type": "text"
      },
      "source": [
        "### Note that x is detached before being used in computation of z. And this is the graph of this modified fragment:\n",
        "\n",
        "### detached graph\n",
        "\n",
        "### As can be seen the branch of computation with x**3 is no longer tracked. This is reflected in the gradient of the result which no longer records the contribution of this branch:\n"
      ]
    },
    {
      "cell_type": "code",
      "metadata": {
        "id": "pkiE-I1-80yw",
        "colab_type": "code",
        "colab": {
          "base_uri": "https://localhost:8080/",
          "height": 35
        },
        "outputId": "6bc70541-692b-4dd5-e9f6-dd4dea425385"
      },
      "source": [
        "# After applying convolution we got 16 channels of 30x30 lets plot one channel\n",
        "out1 = out[0, 0, :, :].detach().numpy() # for zeroth batch , take zeroth channel's all 30x30 values \n",
        "# To my understanding, detach disables automatic differentiation, i.e stops keeping track of gradients. thus giving just a te nsor which is later converted to numpy\n",
        "\n",
        "print(out1.shape)"
      ],
      "execution_count": 32,
      "outputs": [
        {
          "output_type": "stream",
          "text": [
            "(30, 30)\n"
          ],
          "name": "stdout"
        }
      ]
    },
    {
      "cell_type": "code",
      "metadata": {
        "id": "MUbbE5BM9Ork",
        "colab_type": "code",
        "colab": {
          "base_uri": "https://localhost:8080/",
          "height": 266
        },
        "outputId": "e023e393-4019-402b-cf78-d0561f38fb71"
      },
      "source": [
        "plt.imshow(out[0, 0, :, :].detach().numpy())\n",
        "plt.show()\n",
        "# Some deer features can be seen"
      ],
      "execution_count": 33,
      "outputs": [
        {
          "output_type": "display_data",
          "data": {
            "image/png": "[encoded data removed]",
            "text/plain": [
              "<Figure size 432x288 with 1 Axes>"
            ]
          },
          "metadata": {
            "tags": [],
            "needs_background": "light"
          }
        }
      ]
    },
    {
      "cell_type": "markdown",
      "metadata": {
        "id": "s0CU6eWEBmJm",
        "colab_type": "text"
      },
      "source": [
        "## Deep Convolutional Network"
      ]
    },
    {
      "cell_type": "code",
      "metadata": {
        "id": "vupid_o7B2RC",
        "colab_type": "code",
        "colab": {}
      },
      "source": [
        "class FirstCNN_v2(nn.Module) :\n",
        "\n",
        "  def __init__(self):\n",
        "    super(FirstCNN_v2,self).__init__()\n",
        "\n",
        "    self.model = nn.Sequential( # N denotes Batch size\n",
        "        nn.Conv2d(3, 8, 3),   # (N, 3, 32, 32) -> (N, 8, 30, 30)\n",
        "            nn.Conv2d(8, 16, 3)   # (N, 8, 30, 30) -> (N, 16, 28, 28)\n",
        "        )\n",
        "    \n",
        "  def forward(self, x):\n",
        "        x = self.model(x)\n",
        "        return x"
      ],
      "execution_count": 0,
      "outputs": []
    },
    {
      "cell_type": "code",
      "metadata": {
        "id": "8mx5d3spDXvW",
        "colab_type": "code",
        "colab": {
          "base_uri": "https://localhost:8080/",
          "height": 35
        },
        "outputId": "8221a077-37f2-40dd-bb2b-003c24e8d5cc"
      },
      "source": [
        "net = FirstCNN_v2()\n",
        "out = net(images)\n",
        "out.shape"
      ],
      "execution_count": 35,
      "outputs": [
        {
          "output_type": "execute_result",
          "data": {
            "text/plain": [
              "torch.Size([4, 16, 28, 28])"
            ]
          },
          "metadata": {
            "tags": []
          },
          "execution_count": 35
        }
      ]
    },
    {
      "cell_type": "code",
      "metadata": {
        "id": "79tRvZWDDqCn",
        "colab_type": "code",
        "colab": {
          "base_uri": "https://localhost:8080/",
          "height": 283
        },
        "outputId": "cf4871a1-4791-4684-e5e0-fc18fb2530cd"
      },
      "source": [
        "plt.imshow(out[0, 0, :, :].detach().numpy())"
      ],
      "execution_count": 36,
      "outputs": [
        {
          "output_type": "execute_result",
          "data": {
            "text/plain": [
              "<matplotlib.image.AxesImage at 0x7ff8f65a2278>"
            ]
          },
          "metadata": {
            "tags": []
          },
          "execution_count": 36
        },
        {
          "output_type": "display_data",
          "data": {
            "image/png": "[encoded data removed]",
            "text/plain": [
              "<Figure size 432x288 with 1 Axes>"
            ]
          },
          "metadata": {
            "tags": [],
            "needs_background": "light"
          }
        }
      ]
    },
    {
      "cell_type": "code",
      "metadata": {
        "id": "VV6NzQJtDsHC",
        "colab_type": "code",
        "colab": {}
      },
      "source": [
        "class FirstCNN_v3(nn.Module):\n",
        "    def __init__(self): \n",
        "        super(FirstCNN_v3, self).__init__()\n",
        "        self.model = nn.Sequential(\n",
        "            nn.Conv2d(3, 6, 5),          # (N, 3, 32, 32) -> (N, 6, 28, 28)\n",
        "            nn.AvgPool2d(2, stride=2),   # (N, 6, 28, 28) -> (N, 6, 14, 14)\n",
        "            nn.Conv2d(6, 16, 5),         # (N, 6, 14, 14) -> (N, 16, 10, 10)\n",
        "            nn.AvgPool2d(2, stride=2)    # (N, 16, 10, 10) -> (N, 16, 5, 5)\n",
        "        )\n",
        "        \n",
        "    def forward(self, x):\n",
        "        x = self.model(x)\n",
        "        return x"
      ],
      "execution_count": 0,
      "outputs": []
    },
    {
      "cell_type": "code",
      "metadata": {
        "id": "JyoRYIK-DuoQ",
        "colab_type": "code",
        "colab": {
          "base_uri": "https://localhost:8080/",
          "height": 35
        },
        "outputId": "aef2844b-f707-4659-e737-25b4ffbce21a"
      },
      "source": [
        "net = FirstCNN_v3()\n",
        "out = net(images)\n",
        "out.shape"
      ],
      "execution_count": 38,
      "outputs": [
        {
          "output_type": "execute_result",
          "data": {
            "text/plain": [
              "torch.Size([4, 16, 5, 5])"
            ]
          },
          "metadata": {
            "tags": []
          },
          "execution_count": 38
        }
      ]
    },
    {
      "cell_type": "code",
      "metadata": {
        "id": "r-xqdi8xDwhX",
        "colab_type": "code",
        "colab": {
          "base_uri": "https://localhost:8080/",
          "height": 283
        },
        "outputId": "e4518f62-a4de-414b-fee0-6d43473bd810"
      },
      "source": [
        "plt.imshow(out[0, 0, :, :].detach().numpy())"
      ],
      "execution_count": 39,
      "outputs": [
        {
          "output_type": "execute_result",
          "data": {
            "text/plain": [
              "<matplotlib.image.AxesImage at 0x7ff8f6566278>"
            ]
          },
          "metadata": {
            "tags": []
          },
          "execution_count": 39
        },
        {
          "output_type": "display_data",
          "data": {
            "image/png": "[encoded data removed]",
            "text/plain": [
              "<Figure size 432x288 with 1 Axes>"
            ]
          },
          "metadata": {
            "tags": [],
            "needs_background": "light"
          }
        }
      ]
    },
    {
      "cell_type": "code",
      "metadata": {
        "id": "Xo_sa9SMHsRR",
        "colab_type": "code",
        "colab": {
          "base_uri": "https://localhost:8080/",
          "height": 230
        },
        "outputId": "b7d7dde9-d4ac-48d2-f60e-883fb5e10e7d"
      },
      "source": [
        "!wget https://miro.medium.com/max/1400/1*AwJZkWLKabIicUPzSN6KCg.png"
      ],
      "execution_count": 40,
      "outputs": [
        {
          "output_type": "stream",
          "text": [
            "Warning: wildcards not supported in HTTP.\n",
            "--2020-05-02 12:14:40--  https://miro.medium.com/max/1400/1*AwJZkWLKabIicUPzSN6KCg.png\n",
            "Resolving miro.medium.com (miro.medium.com)... 104.16.120.145, 104.16.117.145, 104.16.118.145, ...\n",
            "Connecting to miro.medium.com (miro.medium.com)|104.16.120.145|:443... connected.\n",
            "HTTP request sent, awaiting response... 200 OK\n",
            "Length: 72101 (70K) [image/png]\n",
            "Saving to: ‘1*AwJZkWLKabIicUPzSN6KCg.png’\n",
            "\n",
            "\r          1*AwJZkWL   0%[                    ]       0  --.-KB/s               \r1*AwJZkWLKabIicUPzS 100%[===================>]  70.41K  --.-KB/s    in 0.003s  \n",
            "\n",
            "2020-05-02 12:14:40 (23.5 MB/s) - ‘1*AwJZkWLKabIicUPzSN6KCg.png’ saved [72101/72101]\n",
            "\n"
          ],
          "name": "stdout"
        }
      ]
    },
    {
      "cell_type": "markdown",
      "metadata": {
        "id": "4SC6yqxSD2r9",
        "colab_type": "text"
      },
      "source": [
        "##  LeNet\n",
        "\n"
      ]
    },
    {
      "cell_type": "code",
      "metadata": {
        "id": "G_KWMmg6H9o9",
        "colab_type": "code",
        "colab": {
          "base_uri": "https://localhost:8080/",
          "height": 249
        },
        "outputId": "2b1b5863-7429-49aa-a8f4-f923494e7ffb"
      },
      "source": [
        "Image(\"1*AwJZkWLKabIicUPzSN6KCg.png\")"
      ],
      "execution_count": 41,
      "outputs": [
        {
          "output_type": "execute_result",
          "data": {
            "image/png": "[encoded data removed]",
            "text/plain": [
              "<IPython.core.display.Image object>"
            ]
          },
          "metadata": {
            "tags": []
          },
          "execution_count": 41
        }
      ]
    },
    {
      "cell_type": "code",
      "metadata": {
        "id": "11kmObyUHQed",
        "colab_type": "code",
        "colab": {}
      },
      "source": [
        "class LeNet(nn.Module):\n",
        "    def __init__(self): \n",
        "        super(LeNet, self).__init__()\n",
        "        self.cnn_model = nn.Sequential(\n",
        "            nn.Conv2d(3, 6, 5),         # (N, 3, 32, 32) -> (N,  6, 28, 28)\n",
        "            nn.Tanh(),\n",
        "            nn.AvgPool2d(2, stride=2),  # (N, 6, 28, 28) -> (N,  6, 14, 14)\n",
        "            nn.Conv2d(6, 16, 5),        # (N, 6, 14, 14) -> (N, 16, 10, 10)  \n",
        "            nn.Tanh(),\n",
        "            nn.AvgPool2d(2, stride=2)   # (N,16, 10, 10) -> (N, 16, 5, 5)\n",
        "        )\n",
        "        self.fc_model = nn.Sequential(\n",
        "            nn.Linear(400,120),         # (N, 400) -> (N, 120)\n",
        "            nn.Tanh(),\n",
        "            nn.Linear(120,84),          # (N, 120) -> (N, 84)\n",
        "            nn.Tanh(),\n",
        "            nn.Linear(84,10)            # (N, 84)  -> (N, 10)\n",
        "        )\n",
        "        \n",
        "    def forward(self, x):\n",
        "        print(x.shape)\n",
        "        x = self.cnn_model(x)\n",
        "        print(x.shape)\n",
        "        x = x.view(x.size(0), -1) # (N, 16, 5, 5) -> (N, 400)\n",
        "        print(x.shape)\n",
        "        x = self.fc_model(x)\n",
        "        print(x.shape)\n",
        "        return x"
      ],
      "execution_count": 0,
      "outputs": []
    },
    {
      "cell_type": "code",
      "metadata": {
        "id": "jnCXxX2MOK_w",
        "colab_type": "code",
        "colab": {
          "base_uri": "https://localhost:8080/",
          "height": 88
        },
        "outputId": "b1a26ca8-df89-48e7-9ed5-ead298dd235b"
      },
      "source": [
        "net = LeNet()\n",
        "out = net(images)"
      ],
      "execution_count": 43,
      "outputs": [
        {
          "output_type": "stream",
          "text": [
            "torch.Size([4, 3, 32, 32])\n",
            "torch.Size([4, 16, 5, 5])\n",
            "torch.Size([4, 400])\n",
            "torch.Size([4, 10])\n"
          ],
          "name": "stdout"
        }
      ]
    },
    {
      "cell_type": "code",
      "metadata": {
        "id": "8T9FAchbONI-",
        "colab_type": "code",
        "colab": {
          "base_uri": "https://localhost:8080/",
          "height": 159
        },
        "outputId": "6d5f0cbd-204a-43be-a791-f9ea6b3ee305"
      },
      "source": [
        "print(out)"
      ],
      "execution_count": 44,
      "outputs": [
        {
          "output_type": "stream",
          "text": [
            "tensor([[ 0.0201,  0.0325,  0.1333,  0.0647, -0.0648, -0.0663, -0.0527, -0.0267,\n",
            "         -0.1041, -0.0943],\n",
            "        [ 0.0122,  0.0318,  0.1160,  0.0561, -0.0624, -0.0708, -0.0431, -0.0152,\n",
            "         -0.0962, -0.0780],\n",
            "        [ 0.0205,  0.0148,  0.1239,  0.0510, -0.0542, -0.0731, -0.0490, -0.0320,\n",
            "         -0.1063, -0.0848],\n",
            "        [ 0.0272,  0.0223,  0.1357,  0.0502, -0.0599, -0.0631, -0.0488, -0.0227,\n",
            "         -0.1013, -0.0877]], grad_fn=<AddmmBackward>)\n"
          ],
          "name": "stdout"
        }
      ]
    },
    {
      "cell_type": "code",
      "metadata": {
        "id": "P7SSeMyqD6ig",
        "colab_type": "code",
        "colab": {
          "base_uri": "https://localhost:8080/",
          "height": 35
        },
        "outputId": "5ad56747-6620-4894-ae5b-c31f6dd13deb"
      },
      "source": [
        "max_values, pred_class = torch.max(out.data, 1) #return maximum value along with the index at which it is present\n",
        "print(pred_class)"
      ],
      "execution_count": 45,
      "outputs": [
        {
          "output_type": "stream",
          "text": [
            "tensor([2, 2, 2, 2])\n"
          ],
          "name": "stdout"
        }
      ]
    },
    {
      "cell_type": "markdown",
      "metadata": {
        "id": "o0irCYnBOhac",
        "colab_type": "text"
      },
      "source": [
        "## Training LeNet"
      ]
    },
    {
      "cell_type": "code",
      "metadata": {
        "id": "0TzHnaykOh7R",
        "colab_type": "code",
        "colab": {}
      },
      "source": [
        "class LeNet(nn.Module):\n",
        "    def __init__(self): \n",
        "        super(LeNet, self).__init__()\n",
        "        self.cnn_model = nn.Sequential(\n",
        "            nn.Conv2d(3, 6, 5),         # (N, 3, 32, 32) -> (N,  6, 28, 28)\n",
        "            nn.Tanh(),\n",
        "            nn.AvgPool2d(2, stride=2),  # (N, 6, 28, 28) -> (N,  6, 14, 14)\n",
        "            nn.Conv2d(6, 16, 5),        # (N, 6, 14, 14) -> (N, 16, 10, 10)  \n",
        "            nn.Tanh(),\n",
        "            nn.AvgPool2d(2, stride=2)   # (N,16, 10, 10) -> (N, 16, 5, 5)\n",
        "        )\n",
        "        self.fc_model = nn.Sequential(\n",
        "            nn.Linear(400,120),         # (N, 400) -> (N, 120)\n",
        "            nn.Tanh(),\n",
        "            nn.Linear(120,84),          # (N, 120) -> (N, 84)\n",
        "            nn.Tanh(),\n",
        "            nn.Linear(84,10)            # (N, 84)  -> (N, 10)\n",
        "        )\n",
        "        \n",
        "    def forward(self, x):\n",
        "        x = self.cnn_model(x)\n",
        "        x = x.view(x.size(0), -1) # (N, 16, 5, 5) -> (N, 400)\n",
        "        x = self.fc_model(x)\n",
        "        return x"
      ],
      "execution_count": 0,
      "outputs": []
    },
    {
      "cell_type": "code",
      "metadata": {
        "id": "0vwU7WFvO82b",
        "colab_type": "code",
        "colab": {
          "base_uri": "https://localhost:8080/",
          "height": 52
        },
        "outputId": "8ad28725-6307-4dfd-e376-5b4a6161014f"
      },
      "source": [
        "batch_size = 128 # process 128 images in one go\n",
        "trainset = torchvision.datasets.CIFAR10(root='./data', train=True, download=True, transform=transforms.ToTensor()) # Train karna hai, Local me download karke after converting to tensor\n",
        "trainloader = torch.utils.data.DataLoader(trainset, batch_size=batch_size, shuffle=True) # ek baar me random 128 images dena\n",
        "testset = torchvision.datasets.CIFAR10(root='./data', train=False, download=True, transform=transforms.ToTensor()) # Train nahi karna hai, Local me download kar after converting to tensor\n",
        "testloader = torch.utils.data.DataLoader(testset, batch_size=batch_size, shuffle=False) # non random 128 images"
      ],
      "execution_count": 47,
      "outputs": [
        {
          "output_type": "stream",
          "text": [
            "Files already downloaded and verified\n",
            "Files already downloaded and verified\n"
          ],
          "name": "stdout"
        }
      ]
    },
    {
      "cell_type": "code",
      "metadata": {
        "id": "K5uIOdIFPbhc",
        "colab_type": "code",
        "colab": {}
      },
      "source": [
        "def evaluation(dataloader):\n",
        "    total, correct = 0, 0\n",
        "    for data in dataloader: # iterate over dataloader jo ki ek baar me 128 images dega\n",
        "        inputs, labels = data \n",
        "        outputs = net(inputs) # model se prediction lo jo ki har image k liye ek 10 values ka array ouput dega\n",
        "        _, pred = torch.max(outputs.data, 1) # ye function maximum value aur uska index return karta hai\n",
        "        total += labels.size(0)  # Total kitni images hain\n",
        "        correct += (pred == labels).sum().item() # kitni images correct predict kiya hain\n",
        "    return 100 * correct / total"
      ],
      "execution_count": 0,
      "outputs": []
    },
    {
      "cell_type": "code",
      "metadata": {
        "id": "vH5mmJ7pQIdg",
        "colab_type": "code",
        "colab": {}
      },
      "source": [
        "net = LeNet()"
      ],
      "execution_count": 0,
      "outputs": []
    },
    {
      "cell_type": "code",
      "metadata": {
        "id": "vDfwceYoQKLH",
        "colab_type": "code",
        "colab": {}
      },
      "source": [
        "import torch.optim as optim\n",
        "\n",
        "loss_fn = nn.CrossEntropyLoss() # Initialise loss function\n",
        "opt = optim.Adam(net.parameters()) # initialise optimizer jo ki weight update me kaam aaega"
      ],
      "execution_count": 0,
      "outputs": []
    },
    {
      "cell_type": "code",
      "metadata": {
        "id": "nztWf0A1QUam",
        "colab_type": "code",
        "colab": {
          "base_uri": "https://localhost:8080/",
          "height": 585
        },
        "outputId": "1366e798-0639-4dc4-9cd3-ce69330dede9"
      },
      "source": [
        "%%time\n",
        "loss_arr = []\n",
        "loss_epoch_arr = []\n",
        "max_epochs = 16\n",
        "\n",
        "for epoch in range(max_epochs):\n",
        "\n",
        "    for i, data in enumerate(trainloader, 0):\n",
        "\n",
        "        inputs, labels = data\n",
        "\n",
        "        opt.zero_grad() # clear old gradients , We are resetting any previous gradient values to zero before forward or backward pass\n",
        "\n",
        "        outputs = net(inputs) # make predictions Forward pass\n",
        "        loss = loss_fn(outputs, labels) # calculate loss\n",
        "        loss.backward() # calculate gradients\n",
        "        opt.step() # update parameters i.e Backward propogation step\n",
        "\n",
        "        \n",
        "        loss_arr.append(loss.item())\n",
        "        \n",
        "    loss_epoch_arr.append(loss.item())\n",
        "        \n",
        "    print('Epoch: %d/%d, Test acc: %0.2f, Train acc: %0.2f' % (epoch, max_epochs, evaluation(testloader), evaluation(trainloader)))\n",
        "    \n",
        "    \n",
        "plt.plot(loss_epoch_arr)\n",
        "plt.show()"
      ],
      "execution_count": 51,
      "outputs": [
        {
          "output_type": "stream",
          "text": [
            "Epoch: 0/16, Test acc: 38.70, Train acc: 38.40\n",
            "Epoch: 1/16, Test acc: 43.80, Train acc: 44.14\n",
            "Epoch: 2/16, Test acc: 47.85, Train acc: 48.13\n",
            "Epoch: 3/16, Test acc: 49.15, Train acc: 50.18\n",
            "Epoch: 4/16, Test acc: 51.85, Train acc: 53.54\n",
            "Epoch: 5/16, Test acc: 52.78, Train acc: 55.36\n",
            "Epoch: 6/16, Test acc: 53.26, Train acc: 56.49\n",
            "Epoch: 7/16, Test acc: 53.51, Train acc: 57.97\n",
            "Epoch: 8/16, Test acc: 54.59, Train acc: 59.27\n",
            "Epoch: 9/16, Test acc: 54.57, Train acc: 60.35\n",
            "Epoch: 10/16, Test acc: 54.94, Train acc: 61.29\n",
            "Epoch: 11/16, Test acc: 55.06, Train acc: 62.42\n",
            "Epoch: 12/16, Test acc: 56.07, Train acc: 63.77\n",
            "Epoch: 13/16, Test acc: 55.42, Train acc: 63.31\n",
            "Epoch: 14/16, Test acc: 56.27, Train acc: 65.33\n",
            "Epoch: 15/16, Test acc: 56.13, Train acc: 65.78\n"
          ],
          "name": "stdout"
        },
        {
          "output_type": "display_data",
          "data": {
            "image/png": "[encoded data removed]",
            "text/plain": [
              "<Figure size 432x288 with 1 Axes>"
            ]
          },
          "metadata": {
            "tags": [],
            "needs_background": "light"
          }
        },
        {
          "output_type": "stream",
          "text": [
            "CPU times: user 9min 7s, sys: 7.17 s, total: 9min 15s\n",
            "Wall time: 9min 16s\n"
          ],
          "name": "stdout"
        }
      ]
    },
    {
      "cell_type": "markdown",
      "metadata": {
        "id": "YvOYeWBxQ1Xn",
        "colab_type": "text"
      },
      "source": [
        "## Move to GPU"
      ]
    },
    {
      "cell_type": "code",
      "metadata": {
        "id": "qb6_UvndQ15n",
        "colab_type": "code",
        "colab": {
          "base_uri": "https://localhost:8080/",
          "height": 35
        },
        "outputId": "8682bcb1-da40-4232-9de8-db3f362224a4"
      },
      "source": [
        "device = torch.device(\"cuda:0\" if torch.cuda.is_available() else \"cpu\")\n",
        "print(device)"
      ],
      "execution_count": 52,
      "outputs": [
        {
          "output_type": "stream",
          "text": [
            "cuda:0\n"
          ],
          "name": "stdout"
        }
      ]
    },
    {
      "cell_type": "code",
      "metadata": {
        "id": "I31v5nexS0T_",
        "colab_type": "code",
        "colab": {}
      },
      "source": [
        "def evaluation(dataloader):\n",
        "    total, correct = 0, 0\n",
        "    for data in dataloader:\n",
        "        inputs, labels = data\n",
        "        inputs, labels = inputs.to(device), labels.to(device) #Moving data to GPU because we will move net() to gpu\n",
        "        outputs = net(inputs) # thus whenever we call net we should have data in gpu thus all parameters and biases in GPU\n",
        "        _, pred = torch.max(outputs.data, 1)\n",
        "        total += labels.size(0)\n",
        "        correct += (pred == labels).sum().item()\n",
        "    return 100 * correct / total"
      ],
      "execution_count": 0,
      "outputs": []
    },
    {
      "cell_type": "code",
      "metadata": {
        "id": "nMRKg3LRTM6x",
        "colab_type": "code",
        "colab": {}
      },
      "source": [
        "net = LeNet().to(device) #moving network itself to GPU\n",
        "loss_fn = nn.CrossEntropyLoss()\n",
        "opt = optim.Adam(net.parameters()) # since net is already in GPU and optimiser is defined after net thus optimiser is in GPU only"
      ],
      "execution_count": 0,
      "outputs": []
    },
    {
      "cell_type": "code",
      "metadata": {
        "id": "amZ6moTzTTJw",
        "colab_type": "code",
        "colab": {
          "base_uri": "https://localhost:8080/",
          "height": 337
        },
        "outputId": "c56f532c-da9f-4f5b-b3a5-d29d8f5091e7"
      },
      "source": [
        "%%time\n",
        "max_epochs = 16\n",
        "\n",
        "for epoch in range(max_epochs):\n",
        "\n",
        "    for i, data in enumerate(trainloader, 0):\n",
        "\n",
        "        inputs, labels = data\n",
        "        inputs, labels = inputs.to(device), labels.to(device)\n",
        "        #Moving data to GPU because we moved net() to gpu\n",
        "        # thus whenever we call net we should have data in gpu\n",
        "\n",
        "        opt.zero_grad()\n",
        "\n",
        "        outputs = net(inputs) #In GPU\n",
        "        loss = loss_fn(outputs, labels)\n",
        "        loss.backward()\n",
        "        opt.step()\n",
        "        \n",
        "    print('Epoch: %d/%d' % (epoch, max_epochs))"
      ],
      "execution_count": 55,
      "outputs": [
        {
          "output_type": "stream",
          "text": [
            "Epoch: 0/16\n",
            "Epoch: 1/16\n",
            "Epoch: 2/16\n",
            "Epoch: 3/16\n",
            "Epoch: 4/16\n",
            "Epoch: 5/16\n",
            "Epoch: 6/16\n",
            "Epoch: 7/16\n",
            "Epoch: 8/16\n",
            "Epoch: 9/16\n",
            "Epoch: 10/16\n",
            "Epoch: 11/16\n",
            "Epoch: 12/16\n",
            "Epoch: 13/16\n",
            "Epoch: 14/16\n",
            "Epoch: 15/16\n",
            "CPU times: user 2min 14s, sys: 1.07 s, total: 2min 15s\n",
            "Wall time: 2min 15s\n"
          ],
          "name": "stdout"
        }
      ]
    },
    {
      "cell_type": "code",
      "metadata": {
        "id": "-y6dDYmFT4ws",
        "colab_type": "code",
        "colab": {
          "base_uri": "https://localhost:8080/",
          "height": 35
        },
        "outputId": "8da9b6cf-855e-4b07-8b22-3f06df964212"
      },
      "source": [
        "print('Test acc: %0.2f, Train acc: %0.2f' % (evaluation(testloader), evaluation(trainloader)))"
      ],
      "execution_count": 56,
      "outputs": [
        {
          "output_type": "stream",
          "text": [
            "Test acc: 54.85, Train acc: 64.30\n"
          ],
          "name": "stdout"
        }
      ]
    },
    {
      "cell_type": "markdown",
      "metadata": {
        "id": "LQejYVW7UZ_e",
        "colab_type": "text"
      },
      "source": [
        "## Basic Visualisation"
      ]
    },
    {
      "cell_type": "code",
      "metadata": {
        "id": "H5aCwiYgUacL",
        "colab_type": "code",
        "colab": {
          "base_uri": "https://localhost:8080/",
          "height": 195
        },
        "outputId": "27504839-3f9f-4fb0-fe89-9b2d86ed6f61"
      },
      "source": [
        "imshow(torchvision.utils.make_grid(images))"
      ],
      "execution_count": 57,
      "outputs": [
        {
          "output_type": "display_data",
          "data": {
            "image/png": "[encoded data removed]",
            "text/plain": [
              "<Figure size 720x720 with 1 Axes>"
            ]
          },
          "metadata": {
            "tags": [],
            "needs_background": "light"
          }
        }
      ]
    },
    {
      "cell_type": "code",
      "metadata": {
        "id": "cpXhNSzGUc6K",
        "colab_type": "code",
        "colab": {}
      },
      "source": [
        "# above variable images is in CPU thus moving parameters to CPU\n",
        "net = net.to('cpu')"
      ],
      "execution_count": 0,
      "outputs": []
    },
    {
      "cell_type": "code",
      "metadata": {
        "id": "RG-WP5XGVCrk",
        "colab_type": "code",
        "colab": {
          "base_uri": "https://localhost:8080/",
          "height": 35
        },
        "outputId": "943b69b8-49e6-4b56-e15e-49f126da9987"
      },
      "source": [
        "out = net(images)\n",
        "print(out.shape) #this will give me final output but i need to plot the intermediate steps"
      ],
      "execution_count": 59,
      "outputs": [
        {
          "output_type": "stream",
          "text": [
            "torch.Size([4, 10])\n"
          ],
          "name": "stdout"
        }
      ]
    },
    {
      "cell_type": "code",
      "metadata": {
        "id": "dkgRp1dzVRT4",
        "colab_type": "code",
        "colab": {
          "base_uri": "https://localhost:8080/",
          "height": 35
        },
        "outputId": "6e19a165-08b8-40ab-ada9-84bd89dab878"
      },
      "source": [
        "out = net.cnn_model(images)\n",
        "out.shape\n",
        "# without [0] means to access all the layers in the sequential description\n"
      ],
      "execution_count": 60,
      "outputs": [
        {
          "output_type": "execute_result",
          "data": {
            "text/plain": [
              "torch.Size([4, 16, 5, 5])"
            ]
          },
          "metadata": {
            "tags": []
          },
          "execution_count": 60
        }
      ]
    },
    {
      "cell_type": "code",
      "metadata": {
        "id": "VLSf416hVc4b",
        "colab_type": "code",
        "colab": {
          "base_uri": "https://localhost:8080/",
          "height": 35
        },
        "outputId": "2fe909f9-a115-46e1-dcb9-83b1657db920"
      },
      "source": [
        "\n",
        "# with [0] means to access all the first layer in the sequential description\n",
        "\n",
        "out = net.cnn_model[0](images)\n",
        "out.shape"
      ],
      "execution_count": 61,
      "outputs": [
        {
          "output_type": "execute_result",
          "data": {
            "text/plain": [
              "torch.Size([4, 6, 28, 28])"
            ]
          },
          "metadata": {
            "tags": []
          },
          "execution_count": 61
        }
      ]
    },
    {
      "cell_type": "code",
      "metadata": {
        "id": "FDStej8tV6nW",
        "colab_type": "code",
        "colab": {
          "base_uri": "https://localhost:8080/",
          "height": 610
        },
        "outputId": "d1e5f590-c1df-4f09-d283-cf415dc3253e"
      },
      "source": [
        "image_id = 3\n",
        "plt.figure(figsize = (2,2))\n",
        "imshow(images[image_id,])"
      ],
      "execution_count": 62,
      "outputs": [
        {
          "output_type": "display_data",
          "data": {
            "text/plain": [
              "<Figure size 144x144 with 0 Axes>"
            ]
          },
          "metadata": {
            "tags": []
          }
        },
        {
          "output_type": "display_data",
          "data": {
            "image/png": "[encoded data removed]",
            "text/plain": [
              "<Figure size 720x720 with 1 Axes>"
            ]
          },
          "metadata": {
            "tags": [],
            "needs_background": "light"
          }
        }
      ]
    },
    {
      "cell_type": "code",
      "metadata": {
        "id": "2mFhMc8tWGTy",
        "colab_type": "code",
        "colab": {
          "base_uri": "https://localhost:8080/",
          "height": 432
        },
        "outputId": "9dc02a76-953d-4576-a221-046227a94506"
      },
      "source": [
        "plt.figure(figsize = (6,6))\n",
        "plt.subplot(321) # 3 rows 2 columns\n",
        "for i in range(6):\n",
        "    ax1 = plt.subplot(3, 2, i+1)\n",
        "    plt.imshow(out[image_id, i, :, :].detach().numpy(), cmap=\"binary\") # plotting all the channels corresponding to above image\n",
        "plt.show()"
      ],
      "execution_count": 63,
      "outputs": [
        {
          "output_type": "stream",
          "text": [
            "/usr/local/lib/python3.6/dist-packages/ipykernel_launcher.py:4: MatplotlibDeprecationWarning: Adding an axes using the same arguments as a previous axes currently reuses the earlier instance.  In a future version, a new instance will always be created and returned.  Meanwhile, this warning can be suppressed, and the future behavior ensured, by passing a unique label to each axes instance.\n",
            "  after removing the cwd from sys.path.\n"
          ],
          "name": "stderr"
        },
        {
          "output_type": "display_data",
          "data": {
            "image/png": "[encoded data removed]",
            "text/plain": [
              "<Figure size 432x432 with 6 Axes>"
            ]
          },
          "metadata": {
            "tags": [],
            "needs_background": "light"
          }
        }
      ]
    },
    {
      "cell_type": "code",
      "metadata": {
        "id": "BBdaey-PWlLm",
        "colab_type": "code",
        "colab": {}
      },
      "source": [
        ""
      ],
      "execution_count": 0,
      "outputs": []
    },
    {
      "cell_type": "code",
      "metadata": {
        "id": "7NJf0TViVJe2",
        "colab_type": "code",
        "colab": {}
      },
      "source": [
        ""
      ],
      "execution_count": 0,
      "outputs": []
    },
    {
      "cell_type": "code",
      "metadata": {
        "id": "zuoobS-YUWRE",
        "colab_type": "code",
        "colab": {}
      },
      "source": [
        ""
      ],
      "execution_count": 0,
      "outputs": []
    }
  ]
}